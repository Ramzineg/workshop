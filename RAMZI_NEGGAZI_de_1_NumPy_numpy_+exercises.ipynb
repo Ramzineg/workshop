{
  "cells": [
    {
      "cell_type": "markdown",
      "metadata": {
        "id": "6hBRpWjROueM"
      },
      "source": [
        "#Partie Rappel!!\n",
        "\n"
      ]
    },
    {
      "cell_type": "markdown",
      "source": [
        "\n",
        "\n",
        "---\n",
        "\n",
        "\n",
        "\n",
        "---\n",
        "\n",
        "#Numpy"
      ],
      "metadata": {
        "id": "5XEh6zdaHgjq"
      }
    },
    {
      "cell_type": "code",
      "execution_count": 1,
      "metadata": {
        "id": "1whhfYsAOtKD"
      },
      "outputs": [],
      "source": [
        "import numpy as np"
      ]
    },
    {
      "cell_type": "code",
      "source": [],
      "metadata": {
        "id": "8UOxkfIMa8WN"
      },
      "execution_count": null,
      "outputs": []
    },
    {
      "cell_type": "code",
      "execution_count": 2,
      "metadata": {
        "id": "emo418DMUpoK"
      },
      "outputs": [],
      "source": [
        "x = np.array([[1,2.5,4,5], [14,7,4,5],[5,4,5,2]], dtype = float)"
      ]
    },
    {
      "cell_type": "code",
      "execution_count": 10,
      "metadata": {
        "colab": {
          "base_uri": "https://localhost:8080/"
        },
        "id": "WFlQCt-3uBBp",
        "outputId": "eb4aa238-9ef9-4322-e86f-94c95b1726dd"
      },
      "outputs": [
        {
          "output_type": "execute_result",
          "data": {
            "text/plain": [
              "array([[ 1. ,  2.5,  4. ,  5. ],\n",
              "       [14. ,  7. ,  4. ,  5. ],\n",
              "       [ 5. ,  4. ,  5. ,  2. ]])"
            ]
          },
          "metadata": {},
          "execution_count": 10
        }
      ],
      "source": [
        "x\n"
      ]
    },
    {
      "cell_type": "code",
      "execution_count": 11,
      "metadata": {
        "colab": {
          "base_uri": "https://localhost:8080/"
        },
        "id": "gd1oNn25VvGf",
        "outputId": "b8163b54-b847-4fe3-efe6-f565032d45f8"
      },
      "outputs": [
        {
          "output_type": "execute_result",
          "data": {
            "text/plain": [
              "2"
            ]
          },
          "metadata": {},
          "execution_count": 11
        }
      ],
      "source": [
        "x.ndim"
      ]
    },
    {
      "cell_type": "code",
      "source": [
        "a = np.array([1,2,3])"
      ],
      "metadata": {
        "id": "sV6bo-lNY4NB"
      },
      "execution_count": 12,
      "outputs": []
    },
    {
      "cell_type": "code",
      "source": [
        "a.ndim"
      ],
      "metadata": {
        "colab": {
          "base_uri": "https://localhost:8080/"
        },
        "id": "CuWbba5vY81Q",
        "outputId": "1d9cdb66-26fb-4df8-f3d2-d82a6aa473c9"
      },
      "execution_count": 13,
      "outputs": [
        {
          "output_type": "execute_result",
          "data": {
            "text/plain": [
              "1"
            ]
          },
          "metadata": {},
          "execution_count": 13
        }
      ]
    },
    {
      "cell_type": "code",
      "source": [
        "a.shape"
      ],
      "metadata": {
        "colab": {
          "base_uri": "https://localhost:8080/"
        },
        "id": "L5HXODXHmtwW",
        "outputId": "3979196d-0d5f-486b-e798-7b5c78956457"
      },
      "execution_count": 14,
      "outputs": [
        {
          "output_type": "execute_result",
          "data": {
            "text/plain": [
              "(3,)"
            ]
          },
          "metadata": {},
          "execution_count": 14
        }
      ]
    },
    {
      "cell_type": "code",
      "execution_count": 17,
      "metadata": {
        "colab": {
          "base_uri": "https://localhost:8080/"
        },
        "id": "asAl2ss9VSIN",
        "outputId": "b75002f8-c863-4269-9176-7086a0a86dbb"
      },
      "outputs": [
        {
          "output_type": "execute_result",
          "data": {
            "text/plain": [
              "numpy.ndarray"
            ]
          },
          "metadata": {},
          "execution_count": 17
        }
      ],
      "source": [
        "type(x)"
      ]
    },
    {
      "cell_type": "code",
      "execution_count": null,
      "metadata": {
        "colab": {
          "base_uri": "https://localhost:8080/"
        },
        "id": "T9zgjLhvVVpk",
        "outputId": "3184ae48-ae8b-4479-9c0e-799bcfc765d8"
      },
      "outputs": [
        {
          "data": {
            "text/plain": [
              "1"
            ]
          },
          "execution_count": 6,
          "metadata": {},
          "output_type": "execute_result"
        }
      ],
      "source": [
        "x.ndim"
      ]
    },
    {
      "cell_type": "markdown",
      "metadata": {
        "id": "Urex29YRPMty"
      },
      "source": [
        "#The basics!!!!!"
      ]
    },
    {
      "cell_type": "code",
      "execution_count": 35,
      "metadata": {
        "id": "XMTD6KjkO2DS"
      },
      "outputs": [],
      "source": [
        "a = np.array([1.2,\"2\",3],dtype=float)"
      ]
    },
    {
      "cell_type": "code",
      "execution_count": 36,
      "metadata": {
        "colab": {
          "base_uri": "https://localhost:8080/"
        },
        "id": "OQBL2kfwkbcO",
        "outputId": "30447edd-e69f-4859-add3-cb5dd0087d7c"
      },
      "outputs": [
        {
          "output_type": "execute_result",
          "data": {
            "text/plain": [
              "array([1.2, 2. , 3. ])"
            ]
          },
          "metadata": {},
          "execution_count": 36
        }
      ],
      "source": [
        "a"
      ]
    },
    {
      "cell_type": "code",
      "execution_count": 20,
      "metadata": {
        "id": "6xernDrgPPj3"
      },
      "outputs": [],
      "source": [
        "b = np.array([[[9,8,7,4],[6,5,4,6],[6,5,4,6]],\n",
        "               \n",
        "              [[19,18,17,14],[6,5,4,6],[6,5,4,6]],\n",
        "              \n",
        "              [[9,8,7,4],[6,5,4,6],[6,5,4,6]]\n",
        "              ])\n"
      ]
    },
    {
      "cell_type": "code",
      "execution_count": 24,
      "metadata": {
        "colab": {
          "base_uri": "https://localhost:8080/"
        },
        "id": "-RIWGaAY_TAy",
        "outputId": "843f232f-e84e-498d-d40b-75830e035c80"
      },
      "outputs": [
        {
          "output_type": "execute_result",
          "data": {
            "text/plain": [
              "3"
            ]
          },
          "metadata": {},
          "execution_count": 24
        }
      ],
      "source": [
        "b.ndim"
      ]
    },
    {
      "cell_type": "code",
      "source": [
        "b"
      ],
      "metadata": {
        "colab": {
          "base_uri": "https://localhost:8080/"
        },
        "id": "b-FYKiQqnobX",
        "outputId": "fe0bea15-ebf0-478c-ec6e-142c539fd9fa"
      },
      "execution_count": 25,
      "outputs": [
        {
          "output_type": "execute_result",
          "data": {
            "text/plain": [
              "array([[[ 9,  8,  7,  4],\n",
              "        [ 6,  5,  4,  6],\n",
              "        [ 6,  5,  4,  6]],\n",
              "\n",
              "       [[19, 18, 17, 14],\n",
              "        [ 6,  5,  4,  6],\n",
              "        [ 6,  5,  4,  6]],\n",
              "\n",
              "       [[ 9,  8,  7,  4],\n",
              "        [ 6,  5,  4,  6],\n",
              "        [ 6,  5,  4,  6]]])"
            ]
          },
          "metadata": {},
          "execution_count": 25
        }
      ]
    },
    {
      "cell_type": "code",
      "execution_count": 22,
      "metadata": {
        "id": "yh52D9QPPmgz",
        "colab": {
          "base_uri": "https://localhost:8080/"
        },
        "outputId": "94a5f9b2-81e6-4839-ac39-2c48065f69cb"
      },
      "outputs": [
        {
          "output_type": "execute_result",
          "data": {
            "text/plain": [
              "(3, 3, 4)"
            ]
          },
          "metadata": {},
          "execution_count": 22
        }
      ],
      "source": [
        "b.shape# num de : dim, number ligne, number of colomns"
      ]
    },
    {
      "cell_type": "code",
      "execution_count": 26,
      "metadata": {
        "id": "poC58yi6PqHC"
      },
      "outputs": [],
      "source": [
        "x = np.array([[1,2,3],\n",
        "              [14,15,1]])"
      ]
    },
    {
      "cell_type": "code",
      "execution_count": 27,
      "metadata": {
        "colab": {
          "base_uri": "https://localhost:8080/"
        },
        "id": "dJbpbjxlPsuE",
        "outputId": "4cb1115b-e359-44b4-88c0-b839463f5a54"
      },
      "outputs": [
        {
          "output_type": "execute_result",
          "data": {
            "text/plain": [
              "(2, 3)"
            ]
          },
          "metadata": {},
          "execution_count": 27
        }
      ],
      "source": [
        "x.shape  #num de ligne et colonne"
      ]
    },
    {
      "cell_type": "code",
      "execution_count": 28,
      "metadata": {
        "colab": {
          "base_uri": "https://localhost:8080/"
        },
        "id": "zjwekeL3P27q",
        "outputId": "e97f06ba-5283-4f48-bad5-ca8308edcebd"
      },
      "outputs": [
        {
          "output_type": "execute_result",
          "data": {
            "text/plain": [
              "2"
            ]
          },
          "metadata": {},
          "execution_count": 28
        }
      ],
      "source": [
        "x.ndim"
      ]
    },
    {
      "cell_type": "code",
      "execution_count": null,
      "metadata": {
        "id": "3cO_8dwBP7HC",
        "colab": {
          "base_uri": "https://localhost:8080/"
        },
        "outputId": "d263feef-30bb-49f0-97ff-eb07273835a7"
      },
      "outputs": [
        {
          "output_type": "execute_result",
          "data": {
            "text/plain": [
              "dtype('int64')"
            ]
          },
          "metadata": {},
          "execution_count": 20
        }
      ],
      "source": [
        "x.dtype"
      ]
    },
    {
      "cell_type": "code",
      "execution_count": null,
      "metadata": {
        "colab": {
          "base_uri": "https://localhost:8080/"
        },
        "id": "z4LftY_cP-Pw",
        "outputId": "10862bdf-7daf-4647-9bf9-ceff6c51688d"
      },
      "outputs": [
        {
          "output_type": "execute_result",
          "data": {
            "text/plain": [
              "6"
            ]
          },
          "metadata": {},
          "execution_count": 21
        }
      ],
      "source": [
        "x.size #nombre de ligne * nombre de colonne"
      ]
    },
    {
      "cell_type": "markdown",
      "metadata": {
        "id": "ohJahVW1QyAO"
      },
      "source": [
        "\n",
        "#Accessing/Changing specific elements"
      ]
    },
    {
      "cell_type": "code",
      "source": [
        "x"
      ],
      "metadata": {
        "colab": {
          "base_uri": "https://localhost:8080/"
        },
        "id": "MBzXWPLPbrej",
        "outputId": "aec803b9-f057-46a7-9841-0666dd01b082"
      },
      "execution_count": null,
      "outputs": [
        {
          "output_type": "execute_result",
          "data": {
            "text/plain": [
              "array([[ 1,  2,  3],\n",
              "       [14, 15,  1]])"
            ]
          },
          "metadata": {},
          "execution_count": 27
        }
      ]
    },
    {
      "cell_type": "code",
      "execution_count": 30,
      "metadata": {
        "id": "07Sdg7Ipu8n1",
        "colab": {
          "base_uri": "https://localhost:8080/"
        },
        "outputId": "a640e67b-69ef-4a06-fcc9-3ef64769687f"
      },
      "outputs": [
        {
          "output_type": "execute_result",
          "data": {
            "text/plain": [
              "array([[ 1,  2],\n",
              "       [14, 15]])"
            ]
          },
          "metadata": {},
          "execution_count": 30
        }
      ],
      "source": [
        "x[:,:2]"
      ]
    },
    {
      "cell_type": "code",
      "execution_count": 39,
      "metadata": {
        "colab": {
          "base_uri": "https://localhost:8080/"
        },
        "id": "gkvjvrEiQp2b",
        "outputId": "ee78cdea-f88c-4349-f363-8f4aaadbfd75"
      },
      "outputs": [
        {
          "output_type": "execute_result",
          "data": {
            "text/plain": [
              "1"
            ]
          },
          "metadata": {},
          "execution_count": 39
        }
      ],
      "source": [
        "x[1,2]"
      ]
    },
    {
      "cell_type": "code",
      "execution_count": 40,
      "metadata": {
        "id": "tQTl4bk0AHGq"
      },
      "outputs": [],
      "source": [
        "x = np.array([[1,22,8,4],\n",
        "              [4,15,10,7]])"
      ]
    },
    {
      "cell_type": "code",
      "execution_count": 41,
      "metadata": {
        "colab": {
          "base_uri": "https://localhost:8080/"
        },
        "id": "nwTyvDsJRKKc",
        "outputId": "3a977f8d-0dc3-44de-c9b4-b8ee920d7610"
      },
      "outputs": [
        {
          "output_type": "execute_result",
          "data": {
            "text/plain": [
              "array([ 8, 10])"
            ]
          },
          "metadata": {},
          "execution_count": 41
        }
      ],
      "source": [
        "x[:,2]"
      ]
    },
    {
      "cell_type": "code",
      "execution_count": 42,
      "metadata": {
        "colab": {
          "base_uri": "https://localhost:8080/"
        },
        "id": "0H1EiGhnRWJw",
        "outputId": "484886ea-c4c5-42d3-a2c7-5b8433eadbf0"
      },
      "outputs": [
        {
          "output_type": "execute_result",
          "data": {
            "text/plain": [
              "array([15, 10])"
            ]
          },
          "metadata": {},
          "execution_count": 42
        }
      ],
      "source": [
        "x[1,1:3]"
      ]
    },
    {
      "cell_type": "code",
      "execution_count": 43,
      "metadata": {
        "colab": {
          "base_uri": "https://localhost:8080/"
        },
        "id": "QY4kWzjrRbdy",
        "outputId": "f8a72117-07a0-4d84-b3f3-15d6f8a8520d"
      },
      "outputs": [
        {
          "output_type": "execute_result",
          "data": {
            "text/plain": [
              "array([[ 1, 22,  8,  4,  9, 27,  8],\n",
              "       [ 4, 15, 10,  7, 19, 12, 18]])"
            ]
          },
          "metadata": {},
          "execution_count": 43
        }
      ],
      "source": [
        "x = np.array([[1,22,8,4,9,27,8],\n",
        "              [4,15,10,7,19,12,18]])\n",
        "x"
      ]
    },
    {
      "cell_type": "code",
      "source": [
        "x[(x< 12) & (x>7)]"
      ],
      "metadata": {
        "colab": {
          "base_uri": "https://localhost:8080/"
        },
        "id": "D8-wrIddj8qG",
        "outputId": "2e682269-f440-4e8b-ac5a-0e827737dddd"
      },
      "execution_count": 44,
      "outputs": [
        {
          "output_type": "execute_result",
          "data": {
            "text/plain": [
              "array([ 8,  9,  8, 10])"
            ]
          },
          "metadata": {},
          "execution_count": 44
        }
      ]
    },
    {
      "cell_type": "code",
      "source": [
        "x"
      ],
      "metadata": {
        "colab": {
          "base_uri": "https://localhost:8080/"
        },
        "id": "i20f7u_delk1",
        "outputId": "b37b6f26-cf07-4130-b5f5-29b94ae0c62b"
      },
      "execution_count": 45,
      "outputs": [
        {
          "output_type": "execute_result",
          "data": {
            "text/plain": [
              "array([[ 1, 22,  8,  4,  9, 27,  8],\n",
              "       [ 4, 15, 10,  7, 19, 12, 18]])"
            ]
          },
          "metadata": {},
          "execution_count": 45
        }
      ]
    },
    {
      "cell_type": "code",
      "execution_count": 47,
      "metadata": {
        "colab": {
          "base_uri": "https://localhost:8080/"
        },
        "id": "kbnbretmRghD",
        "outputId": "ecb94c10-74bb-470d-ce7d-a6f75f7c64de"
      },
      "outputs": [
        {
          "output_type": "execute_result",
          "data": {
            "text/plain": [
              "array([[22,  8,  4,  9, 27],\n",
              "       [15, 10,  7, 19, 12]])"
            ]
          },
          "metadata": {},
          "execution_count": 47
        }
      ],
      "source": [
        "# [startindex:endindex:stepsize]\n",
        "x[:, 1:-1:1]"
      ]
    },
    {
      "cell_type": "code",
      "source": [
        "x[:,2]"
      ],
      "metadata": {
        "colab": {
          "base_uri": "https://localhost:8080/"
        },
        "id": "NUk3nSx4dpGX",
        "outputId": "b88f85f4-f72b-40ee-cebe-6f8f0931c2ac"
      },
      "execution_count": 48,
      "outputs": [
        {
          "output_type": "execute_result",
          "data": {
            "text/plain": [
              "array([ 8, 10])"
            ]
          },
          "metadata": {},
          "execution_count": 48
        }
      ]
    },
    {
      "cell_type": "code",
      "execution_count": 49,
      "metadata": {
        "colab": {
          "base_uri": "https://localhost:8080/"
        },
        "id": "a6SAjo6ISA7C",
        "outputId": "10138302-1d83-449e-e8f2-c5f17b20a8f3"
      },
      "outputs": [
        {
          "output_type": "execute_result",
          "data": {
            "text/plain": [
              "333333333333"
            ]
          },
          "metadata": {},
          "execution_count": 49
        }
      ],
      "source": [
        "x = 333333333333\n",
        "x"
      ]
    },
    {
      "cell_type": "code",
      "execution_count": 57,
      "metadata": {
        "colab": {
          "base_uri": "https://localhost:8080/"
        },
        "id": "gdVp-CaXBJgC",
        "outputId": "a8003e00-fadf-4e96-d30b-2f1657cf645c"
      },
      "outputs": [
        {
          "output_type": "execute_result",
          "data": {
            "text/plain": [
              "333333333333"
            ]
          },
          "metadata": {},
          "execution_count": 57
        }
      ],
      "source": [
        "x"
      ]
    },
    {
      "cell_type": "markdown",
      "metadata": {
        "id": "zVpmPDZbSZDf"
      },
      "source": [
        "#Initialization of an array !!"
      ]
    },
    {
      "cell_type": "code",
      "execution_count": 64,
      "metadata": {
        "id": "Pe8G_gQ-Sdqi",
        "colab": {
          "base_uri": "https://localhost:8080/"
        },
        "outputId": "bc2f0b64-a19a-4c6b-9de4-7126f8764774"
      },
      "outputs": [
        {
          "output_type": "execute_result",
          "data": {
            "text/plain": [
              "array([[99, 99, 99],\n",
              "       [99, 99, 99]])"
            ]
          },
          "metadata": {},
          "execution_count": 64
        }
      ],
      "source": [
        "d1 = np.ones((2,3),dtype=int) +98\n",
        "d1"
      ]
    },
    {
      "cell_type": "code",
      "source": [
        "d2 = np.ones((2,3),dtype=float) + 7"
      ],
      "metadata": {
        "id": "ZxE5hSlee_GF"
      },
      "execution_count": 61,
      "outputs": []
    },
    {
      "cell_type": "code",
      "source": [
        "d1[1,2] = 17 *5\n",
        "d1"
      ],
      "metadata": {
        "colab": {
          "base_uri": "https://localhost:8080/"
        },
        "id": "hU-rpLPSfHw4",
        "outputId": "553c5b19-3bd7-43c6-f777-bcc9ddc7ee69"
      },
      "execution_count": 65,
      "outputs": [
        {
          "output_type": "execute_result",
          "data": {
            "text/plain": [
              "array([[99, 99, 99],\n",
              "       [99, 99, 85]])"
            ]
          },
          "metadata": {},
          "execution_count": 65
        }
      ]
    },
    {
      "cell_type": "code",
      "source": [
        "array1 = np.array([1,2,3,4])\n",
        "array2 = np.array([4,5,6,7])"
      ],
      "metadata": {
        "id": "R7GSn_PPfOkF"
      },
      "execution_count": 70,
      "outputs": []
    },
    {
      "cell_type": "code",
      "source": [
        "array1 * array2 "
      ],
      "metadata": {
        "colab": {
          "base_uri": "https://localhost:8080/"
        },
        "id": "1ce1cuD4fYWz",
        "outputId": "484dcbcc-65b6-4d8b-9347-546261580f49"
      },
      "execution_count": 71,
      "outputs": [
        {
          "output_type": "execute_result",
          "data": {
            "text/plain": [
              "array([ 4, 10, 18, 28])"
            ]
          },
          "metadata": {},
          "execution_count": 71
        }
      ]
    },
    {
      "cell_type": "code",
      "source": [],
      "metadata": {
        "id": "IUCMjT4vf99W"
      },
      "execution_count": null,
      "outputs": []
    },
    {
      "cell_type": "code",
      "execution_count": 75,
      "metadata": {
        "colab": {
          "base_uri": "https://localhost:8080/"
        },
        "id": "PtMEWsR6SkaG",
        "outputId": "21fc9b4e-59c3-480a-e730-fb2f39e44726"
      },
      "outputs": [
        {
          "output_type": "execute_result",
          "data": {
            "text/plain": [
              "array([['100000007', '100000007', '100000007', '100000007'],\n",
              "       ['100000007', '100000007', '100000007', '100000007']], dtype='<U9')"
            ]
          },
          "metadata": {},
          "execution_count": 75
        }
      ],
      "source": [
        "np.full((2,4),'100000007')\n"
      ]
    },
    {
      "cell_type": "code",
      "execution_count": 76,
      "metadata": {
        "colab": {
          "base_uri": "https://localhost:8080/"
        },
        "id": "OZ46Rn0cSnWW",
        "outputId": "6d782db8-21ed-42dc-f8dc-4ce6f5db7f01"
      },
      "outputs": [
        {
          "output_type": "execute_result",
          "data": {
            "text/plain": [
              "array([[7, 7, 7],\n",
              "       [7, 7, 7]])"
            ]
          },
          "metadata": {},
          "execution_count": 76
        }
      ],
      "source": [
        "c= np.full((2,3),7)\n",
        "c"
      ]
    },
    {
      "cell_type": "code",
      "execution_count": 77,
      "metadata": {
        "colab": {
          "base_uri": "https://localhost:8080/"
        },
        "id": "vuAIoWwnjRwZ",
        "outputId": "930231b5-c862-44c2-b5c8-8c984bc61619"
      },
      "outputs": [
        {
          "output_type": "execute_result",
          "data": {
            "text/plain": [
              "array([[9, 9, 9],\n",
              "       [9, 9, 9]])"
            ]
          },
          "metadata": {},
          "execution_count": 77
        }
      ],
      "source": [
        "np.full_like(c, 9) #c c'est notre matrice "
      ]
    },
    {
      "cell_type": "code",
      "execution_count": 78,
      "metadata": {
        "colab": {
          "base_uri": "https://localhost:8080/"
        },
        "id": "mtSTSNqzStqD",
        "outputId": "2f3a1103-a0fd-4cd7-a8b0-a37fa2263c9a"
      },
      "outputs": [
        {
          "output_type": "execute_result",
          "data": {
            "text/plain": [
              "array([[0.34088457, 0.78007066],\n",
              "       [0.46702651, 0.34781282],\n",
              "       [0.2500854 , 0.24881915],\n",
              "       [0.01075222, 0.85814785]])"
            ]
          },
          "metadata": {},
          "execution_count": 78
        }
      ],
      "source": [
        "\n",
        "# Random decimal numbers\n",
        "np.random.rand(4,2)"
      ]
    },
    {
      "cell_type": "code",
      "execution_count": 79,
      "metadata": {
        "colab": {
          "base_uri": "https://localhost:8080/"
        },
        "id": "_CGvJJTMSypC",
        "outputId": "5646cbe2-2111-485e-a81c-68e8e027fcf5"
      },
      "outputs": [
        {
          "output_type": "execute_result",
          "data": {
            "text/plain": [
              "array([[ 0,  2,  3],\n",
              "       [ 1, -3,  1],\n",
              "       [ 2,  2,  4]])"
            ]
          },
          "metadata": {},
          "execution_count": 79
        }
      ],
      "source": [
        "np.random.randint(-4,8, size=(3,3)) #des valeurs entre -4 et 8,  avec la taille 3*3"
      ]
    },
    {
      "cell_type": "code",
      "execution_count": 80,
      "metadata": {
        "id": "OfNkPn14S4Ho",
        "colab": {
          "base_uri": "https://localhost:8080/"
        },
        "outputId": "d67fb938-4cd3-4ee6-9f11-d641c5b4784d"
      },
      "outputs": [
        {
          "output_type": "execute_result",
          "data": {
            "text/plain": [
              "array([[1., 0., 0.],\n",
              "       [0., 1., 0.],\n",
              "       [0., 0., 1.]])"
            ]
          },
          "metadata": {},
          "execution_count": 80
        }
      ],
      "source": [
        "# The identity matrix\n",
        "np.identity(3)"
      ]
    },
    {
      "cell_type": "code",
      "execution_count": 81,
      "metadata": {
        "colab": {
          "base_uri": "https://localhost:8080/"
        },
        "id": "_ORzswFAS7RJ",
        "outputId": "90bcc8d7-4f57-4322-b055-c708fda1aab8"
      },
      "outputs": [
        {
          "output_type": "execute_result",
          "data": {
            "text/plain": [
              "array([1, 2, 3, 9])"
            ]
          },
          "metadata": {},
          "execution_count": 81
        }
      ],
      "source": [
        "arr = np.array([[1,2,3,-2,0,11,15,9]])\n",
        "arr[(arr > 0) & (arr < 10)] "
      ]
    },
    {
      "cell_type": "code",
      "execution_count": 82,
      "metadata": {
        "colab": {
          "base_uri": "https://localhost:8080/"
        },
        "id": "ftVAozphzJcO",
        "outputId": "c4b13aa6-fa6e-4caa-eee5-93f26c7d832f"
      },
      "outputs": [
        {
          "output_type": "execute_result",
          "data": {
            "text/plain": [
              "array([ 1, -2,  0])"
            ]
          },
          "metadata": {},
          "execution_count": 82
        }
      ],
      "source": [
        "arr[(arr <2) & (arr<10)]"
      ]
    },
    {
      "cell_type": "markdown",
      "metadata": {
        "id": "dgSSsTbbHnYw"
      },
      "source": [
        "\n",
        "# NumPy exercises\n"
      ]
    },
    {
      "cell_type": "code",
      "execution_count": 2,
      "metadata": {
        "colab": {
          "base_uri": "https://localhost:8080/"
        },
        "id": "NRQeWTdSHnY3",
        "outputId": "a2b56089-844f-4539-aa03-454318a1cea7"
      },
      "outputs": [
        {
          "output_type": "stream",
          "name": "stdout",
          "text": [
            "1.22.4\n"
          ]
        }
      ],
      "source": [
        "# Import the numpy package under the name np\n",
        "import numpy as np\n",
        "\n",
        "# Print the numpy version and the configuration\n",
        "print(np.__version__)"
      ]
    },
    {
      "cell_type": "code",
      "source": [
        "reshaping = np.array([1,2,3,4,5,6])\n",
        "reshaping"
      ],
      "metadata": {
        "colab": {
          "base_uri": "https://localhost:8080/"
        },
        "id": "_ACQTzbcmQa3",
        "outputId": "98659cb1-5c63-4193-d808-1a7d08c7b145"
      },
      "execution_count": 84,
      "outputs": [
        {
          "output_type": "execute_result",
          "data": {
            "text/plain": [
              "array([1, 2, 3, 4, 5, 6])"
            ]
          },
          "metadata": {},
          "execution_count": 84
        }
      ]
    },
    {
      "cell_type": "code",
      "source": [
        "reshaping.reshape(3,2)"
      ],
      "metadata": {
        "colab": {
          "base_uri": "https://localhost:8080/"
        },
        "id": "IuCOw4DNnZC2",
        "outputId": "c20aee23-99a4-4590-87e2-8eaad3dfff7d"
      },
      "execution_count": 85,
      "outputs": [
        {
          "output_type": "execute_result",
          "data": {
            "text/plain": [
              "array([[1, 2],\n",
              "       [3, 4],\n",
              "       [5, 6]])"
            ]
          },
          "metadata": {},
          "execution_count": 85
        }
      ]
    },
    {
      "cell_type": "code",
      "source": [
        "liste = list(reshaping)\n",
        "liste"
      ],
      "metadata": {
        "id": "RtyeQwUzmZav",
        "colab": {
          "base_uri": "https://localhost:8080/"
        },
        "outputId": "fbacda68-2817-4c12-fd14-a87f63f1918e"
      },
      "execution_count": 87,
      "outputs": [
        {
          "output_type": "execute_result",
          "data": {
            "text/plain": [
              "[1, 2, 3, 4, 5, 6]"
            ]
          },
          "metadata": {},
          "execution_count": 87
        }
      ]
    },
    {
      "cell_type": "code",
      "source": [
        "type(liste)"
      ],
      "metadata": {
        "colab": {
          "base_uri": "https://localhost:8080/"
        },
        "id": "EXRerZc0mv0e",
        "outputId": "f35a5c09-2d2a-489e-b380-e9ab377e7338"
      },
      "execution_count": 88,
      "outputs": [
        {
          "output_type": "execute_result",
          "data": {
            "text/plain": [
              "list"
            ]
          },
          "metadata": {},
          "execution_count": 88
        }
      ]
    },
    {
      "cell_type": "code",
      "source": [
        "array3 = np.array(liste)\n",
        "array3"
      ],
      "metadata": {
        "id": "pRXCI7jXmmod",
        "colab": {
          "base_uri": "https://localhost:8080/"
        },
        "outputId": "ea525a34-f79b-4711-95ee-5c84c97cf59d"
      },
      "execution_count": 91,
      "outputs": [
        {
          "output_type": "execute_result",
          "data": {
            "text/plain": [
              "array([1, 2, 3, 4, 5, 6])"
            ]
          },
          "metadata": {},
          "execution_count": 91
        }
      ]
    },
    {
      "cell_type": "code",
      "source": [
        "type(array3)"
      ],
      "metadata": {
        "colab": {
          "base_uri": "https://localhost:8080/"
        },
        "id": "obEViyy3mtMr",
        "outputId": "e3237a09-6cab-48bd-bb9c-1ebccebfe8e9"
      },
      "execution_count": 90,
      "outputs": [
        {
          "output_type": "execute_result",
          "data": {
            "text/plain": [
              "numpy.ndarray"
            ]
          },
          "metadata": {},
          "execution_count": 90
        }
      ]
    },
    {
      "cell_type": "markdown",
      "metadata": {
        "id": "VLZ2z7rYHnY4"
      },
      "source": [
        "![purple-divider](https://user-images.githubusercontent.com/7065401/52071927-c1cd7100-2562-11e9-908a-dde91ba14e59.png)\n",
        "\n",
        "## Array creation"
      ]
    },
    {
      "cell_type": "markdown",
      "metadata": {
        "id": "8iKuHC_KHnY4"
      },
      "source": [
        "### Create a numpy array of size 10, filled with zeros."
      ]
    },
    {
      "cell_type": "code",
      "execution_count": 95,
      "metadata": {
        "id": "hbqNuGNvHnY5",
        "colab": {
          "base_uri": "https://localhost:8080/"
        },
        "outputId": "8a0b641a-0df1-48dc-a57c-75ded45a2dfb"
      },
      "outputs": [
        {
          "output_type": "execute_result",
          "data": {
            "text/plain": [
              "array([0, 0, 0, 0, 0, 0, 0, 0, 0, 0])"
            ]
          },
          "metadata": {},
          "execution_count": 95
        }
      ],
      "source": [
        "from numpy.core.numeric import full_like\n",
        "# your code goes here\n",
        "x=np.full((10),0)\n",
        "x"
      ]
    },
    {
      "cell_type": "markdown",
      "metadata": {
        "id": "kujttpUMHnY5"
      },
      "source": [
        "\n",
        "\n",
        "### Create a numpy array with values ranging from 10 to 49"
      ]
    },
    {
      "cell_type": "code",
      "execution_count": 99,
      "metadata": {
        "id": "pNOuMIT0HnY6",
        "colab": {
          "base_uri": "https://localhost:8080/"
        },
        "outputId": "c904d1f7-ef19-4ad1-b523-9877a2fe9b7f"
      },
      "outputs": [
        {
          "output_type": "execute_result",
          "data": {
            "text/plain": [
              "array([[40, 17, 34],\n",
              "       [16, 26, 16],\n",
              "       [39, 13, 47]])"
            ]
          },
          "metadata": {},
          "execution_count": 99
        }
      ],
      "source": [
        "np.random.randint(10,49, size=(3,3))"
      ]
    },
    {
      "cell_type": "markdown",
      "metadata": {
        "id": "HlFkNOf2HnY6"
      },
      "source": [
        "\n",
        "\n",
        "### Create a numpy matrix of 2*2 integers, filled with ones."
      ]
    },
    {
      "cell_type": "code",
      "execution_count": 101,
      "metadata": {
        "colab": {
          "base_uri": "https://localhost:8080/"
        },
        "id": "zADtXIk2HnY7",
        "outputId": "19d7b63f-92a9-4ae0-f8d9-159ce02b7afc"
      },
      "outputs": [
        {
          "output_type": "execute_result",
          "data": {
            "text/plain": [
              "array([[1, 1],\n",
              "       [1, 1]])"
            ]
          },
          "metadata": {},
          "execution_count": 101
        }
      ],
      "source": [
        "d= np.ones((2,2),dtype=int)\n",
        "d\n"
      ]
    },
    {
      "cell_type": "markdown",
      "metadata": {
        "id": "LRgNeykFHnY7"
      },
      "source": [
        "\n",
        "\n",
        "### Create a numpy matrix of 3*2 float numbers, filled with ones."
      ]
    },
    {
      "cell_type": "code",
      "execution_count": 103,
      "metadata": {
        "id": "CNA-39v-HnY8",
        "colab": {
          "base_uri": "https://localhost:8080/"
        },
        "outputId": "f632c529-94e9-4ad9-b256-1f84351b3046"
      },
      "outputs": [
        {
          "output_type": "execute_result",
          "data": {
            "text/plain": [
              "array([[1, 1],\n",
              "       [1, 1],\n",
              "       [1, 1]])"
            ]
          },
          "metadata": {},
          "execution_count": 103
        }
      ],
      "source": [
        "# your code goes here\n",
        "d2 = np.ones((3,2),dtype=int)\n",
        "d2"
      ]
    },
    {
      "cell_type": "markdown",
      "metadata": {
        "id": "VCHn-zTYHnY9"
      },
      "source": [
        "### Given the X numpy matrix, create a new numpy matrix with the same shape and type as X, filled with zeros.\n",
        "\n",
        "Exemple : https://numpy.org/doc/stable/reference/generated/numpy.zeros_like.html"
      ]
    },
    {
      "cell_type": "code",
      "execution_count": 107,
      "metadata": {
        "id": "hANNmXCZHnY-",
        "colab": {
          "base_uri": "https://localhost:8080/"
        },
        "outputId": "9323b170-5dc0-40e3-9fed-3f5f681fbc4b"
      },
      "outputs": [
        {
          "output_type": "execute_result",
          "data": {
            "text/plain": [
              "array([[0, 1, 2],\n",
              "       [3, 4, 5]])"
            ]
          },
          "metadata": {},
          "execution_count": 107
        }
      ],
      "source": [
        "# your code goes here\n",
        "x = np.arange(6)\n",
        "x = x.reshape((2, 3))\n",
        "x"
      ]
    },
    {
      "cell_type": "code",
      "source": [
        "np.zeros_like(x)"
      ],
      "metadata": {
        "colab": {
          "base_uri": "https://localhost:8080/"
        },
        "id": "XzTkTne4xCVk",
        "outputId": "99eacaa8-5385-4f3a-af26-0404aa32c4b3"
      },
      "execution_count": 108,
      "outputs": [
        {
          "output_type": "execute_result",
          "data": {
            "text/plain": [
              "array([[0, 0, 0],\n",
              "       [0, 0, 0]])"
            ]
          },
          "metadata": {},
          "execution_count": 108
        }
      ]
    },
    {
      "cell_type": "markdown",
      "metadata": {
        "id": "9rp_wd0-HnY-"
      },
      "source": [
        "\n",
        "\n",
        "### Create a numpy matrix of 4*4 integers, filled with fives.\n",
        "\n",
        "https://www.w3resource.com/python-exercises/numpy/basic/numpy-basic-exercise-13.php \n"
      ]
    },
    {
      "cell_type": "code",
      "execution_count": 111,
      "metadata": {
        "id": "PQrlLId_HnY_",
        "colab": {
          "base_uri": "https://localhost:8080/"
        },
        "outputId": "7fe92edd-8e7e-485e-b396-70acd0bf674a"
      },
      "outputs": [
        {
          "output_type": "execute_result",
          "data": {
            "text/plain": [
              "array([[5, 5, 5, 5],\n",
              "       [5, 5, 5, 5],\n",
              "       [5, 5, 5, 5],\n",
              "       [5, 5, 5, 5]])"
            ]
          },
          "metadata": {},
          "execution_count": 111
        }
      ],
      "source": [
        "# your code goes here\n",
        "d3 = np.ones((4,4),dtype=int)*5\n",
        "d3"
      ]
    },
    {
      "cell_type": "markdown",
      "metadata": {
        "id": "3yw0KuZUHnY_"
      },
      "source": [
        "\n",
        "\n",
        "### Given the X numpy matrix, create a new numpy matrix with the same shape and type as X, filled with sevens."
      ]
    },
    {
      "cell_type": "code",
      "execution_count": 112,
      "metadata": {
        "id": "X3JGuAbqHnY_",
        "colab": {
          "base_uri": "https://localhost:8080/"
        },
        "outputId": "3a8eeb70-981f-47bb-cf10-90a09bc95b31"
      },
      "outputs": [
        {
          "output_type": "execute_result",
          "data": {
            "text/plain": [
              "array([[9, 9, 9, 9],\n",
              "       [9, 9, 9, 9],\n",
              "       [9, 9, 9, 9],\n",
              "       [9, 9, 9, 9]])"
            ]
          },
          "metadata": {},
          "execution_count": 112
        }
      ],
      "source": [
        "# your code goes here\n",
        "\n",
        "d4=np.full_like(d3, 9)\n",
        "d4"
      ]
    },
    {
      "cell_type": "markdown",
      "metadata": {
        "id": "hbN5I-YZHnZA"
      },
      "source": [
        "\n",
        "\n",
        "### Create a 3*3 identity numpy matrix with ones on the diagonal and zeros elsewhere."
      ]
    },
    {
      "cell_type": "code",
      "execution_count": 114,
      "metadata": {
        "id": "a3ET5xPJHnZB",
        "colab": {
          "base_uri": "https://localhost:8080/"
        },
        "outputId": "f10667c4-e870-4c3d-a656-cdc6ce413a12"
      },
      "outputs": [
        {
          "output_type": "execute_result",
          "data": {
            "text/plain": [
              "array([[1., 0., 0.],\n",
              "       [0., 1., 0.],\n",
              "       [0., 0., 1.]])"
            ]
          },
          "metadata": {},
          "execution_count": 114
        }
      ],
      "source": [
        "# your code goes here\n",
        "np.identity(3)"
      ]
    },
    {
      "cell_type": "markdown",
      "metadata": {
        "id": "7hZ5hlVJHnZB"
      },
      "source": [
        "\n",
        "\n",
        "### Create a numpy array, filled with 3 random integer values between 1 and 10."
      ]
    },
    {
      "cell_type": "code",
      "execution_count": 118,
      "metadata": {
        "id": "5n18AcZIHnZC",
        "colab": {
          "base_uri": "https://localhost:8080/"
        },
        "outputId": "c6dd5044-cb72-4864-d317-76772139e64c"
      },
      "outputs": [
        {
          "output_type": "execute_result",
          "data": {
            "text/plain": [
              "array([[1, 1, 3],\n",
              "       [1, 1, 2],\n",
              "       [1, 3, 3]])"
            ]
          },
          "metadata": {},
          "execution_count": 118
        }
      ],
      "source": [
        "# your code goes here\n",
        "np.random.randint(1,4, size=(3,3),dtype=int)"
      ]
    },
    {
      "cell_type": "markdown",
      "metadata": {
        "id": "Kmk6cDC8HnZC"
      },
      "source": [
        "\n",
        "\n",
        "### Create a 3\\*3\\*3 numpy matrix, filled with random float values."
      ]
    },
    {
      "cell_type": "code",
      "execution_count": 128,
      "metadata": {
        "id": "kyNO16eNHnZD",
        "colab": {
          "base_uri": "https://localhost:8080/"
        },
        "outputId": "7c145cba-39a1-4f15-d54b-5e161b18364d"
      },
      "outputs": [
        {
          "output_type": "execute_result",
          "data": {
            "text/plain": [
              "array([[[0.21499297, 0.77809483, 0.22158247],\n",
              "        [0.47758741, 0.87504498, 0.43125457],\n",
              "        [0.7060415 , 0.24297808, 0.27761147]],\n",
              "\n",
              "       [[0.57637756, 0.10389368, 0.6857442 ],\n",
              "        [0.12250492, 0.85571018, 0.9080414 ],\n",
              "        [0.15417121, 0.2532128 , 0.62628625]],\n",
              "\n",
              "       [[0.06200327, 0.97034393, 0.75775475],\n",
              "        [0.51121231, 0.7844228 , 0.35522231],\n",
              "        [0.87467298, 0.52693026, 0.02490698]]])"
            ]
          },
          "metadata": {},
          "execution_count": 128
        }
      ],
      "source": [
        "# your code goes here\n",
        "np.random.rand(3,3,3)"
      ]
    },
    {
      "cell_type": "markdown",
      "metadata": {
        "id": "-OSWUwp6HnZD"
      },
      "source": [
        "\n",
        "\n",
        "### Given the X python list convert it to an Y numpy array"
      ]
    },
    {
      "cell_type": "code",
      "execution_count": 133,
      "metadata": {
        "id": "8pfKTouMHnZD",
        "colab": {
          "base_uri": "https://localhost:8080/"
        },
        "outputId": "afd33164-6319-463c-b8d9-96a185e7fb2d"
      },
      "outputs": [
        {
          "output_type": "execute_result",
          "data": {
            "text/plain": [
              "array([[5, 3],\n",
              "       [2, 1],\n",
              "       [2, 2]])"
            ]
          },
          "metadata": {},
          "execution_count": 133
        }
      ],
      "source": [
        "# your code goes here\n",
        "X=[5,3,2,1,2,2]\n",
        "X=np.array(X).reshape(3,2)\n",
        "X"
      ]
    },
    {
      "cell_type": "markdown",
      "metadata": {
        "id": "WABw14rNHnZD"
      },
      "source": [
        "\n",
        "\n",
        "### Given the X numpy array, make a copy and store it on Y."
      ]
    },
    {
      "cell_type": "code",
      "execution_count": 137,
      "metadata": {
        "id": "zmcql2y8HnZE",
        "colab": {
          "base_uri": "https://localhost:8080/"
        },
        "outputId": "b38e8178-bf6d-4d62-dc58-ae6898bb2fcc"
      },
      "outputs": [
        {
          "output_type": "execute_result",
          "data": {
            "text/plain": [
              "array([[5, 3],\n",
              "       [2, 1],\n",
              "       [2, 2]])"
            ]
          },
          "metadata": {},
          "execution_count": 137
        }
      ],
      "source": [
        "# your code goes here\n",
        "Y=X.copy()\n",
        "Y"
      ]
    },
    {
      "cell_type": "code",
      "source": [
        "X"
      ],
      "metadata": {
        "colab": {
          "base_uri": "https://localhost:8080/"
        },
        "id": "6RuhRs4fATSY",
        "outputId": "1918b4b5-a259-438c-a13b-fb3121572284"
      },
      "execution_count": 138,
      "outputs": [
        {
          "output_type": "execute_result",
          "data": {
            "text/plain": [
              "array([[5, 3],\n",
              "       [2, 1],\n",
              "       [2, 2]])"
            ]
          },
          "metadata": {},
          "execution_count": 138
        }
      ]
    },
    {
      "cell_type": "markdown",
      "metadata": {
        "id": "eTKj2YuiHnZE"
      },
      "source": [
        "\n",
        "\n",
        "### Create a numpy array with numbers from 1 to 10"
      ]
    },
    {
      "cell_type": "code",
      "execution_count": 141,
      "metadata": {
        "id": "03zkkjDxHnZE",
        "colab": {
          "base_uri": "https://localhost:8080/"
        },
        "outputId": "21503a86-bd87-4aba-b953-64a81c6e53e7"
      },
      "outputs": [
        {
          "output_type": "execute_result",
          "data": {
            "text/plain": [
              "array([[2, 5, 6, 7, 6, 3, 2, 7, 5, 2]])"
            ]
          },
          "metadata": {},
          "execution_count": 141
        }
      ],
      "source": [
        "# your code goes here\n",
        "y=np.random.randint(1,10,size=(1,10))\n",
        "y"
      ]
    },
    {
      "cell_type": "markdown",
      "metadata": {
        "id": "hxZLhv5QHnZE"
      },
      "source": [
        "\n",
        "\n",
        "### Create a numpy array with the odd numbers between 1 to 10"
      ]
    },
    {
      "cell_type": "code",
      "execution_count": 145,
      "metadata": {
        "id": "5yXS3n-AHnZF",
        "colab": {
          "base_uri": "https://localhost:8080/"
        },
        "outputId": "324bd55d-f5ec-43e9-df8f-1d53482c3add"
      },
      "outputs": [
        {
          "output_type": "execute_result",
          "data": {
            "text/plain": [
              "array([ 1,  2,  3,  4,  5,  6,  7,  8,  9, 10])"
            ]
          },
          "metadata": {},
          "execution_count": 145
        }
      ],
      "source": [
        "# your code goes here\n",
        "y=np.arange(1,11)\n",
        "y"
      ]
    },
    {
      "cell_type": "markdown",
      "metadata": {
        "id": "RvGHRuQIHnZF"
      },
      "source": [
        "\n",
        "\n",
        "### Create a 3*3 numpy matrix, filled with values ranging from 0 to 8"
      ]
    },
    {
      "cell_type": "code",
      "execution_count": 152,
      "metadata": {
        "id": "5N3ueNG3HnZF",
        "colab": {
          "base_uri": "https://localhost:8080/"
        },
        "outputId": "77876e20-6632-40d8-f57b-7606410c7704"
      },
      "outputs": [
        {
          "output_type": "execute_result",
          "data": {
            "text/plain": [
              "array([[0, 1, 2],\n",
              "       [3, 4, 5],\n",
              "       [6, 7, 8]])"
            ]
          },
          "metadata": {},
          "execution_count": 152
        }
      ],
      "source": [
        "# your code goes here\n",
        "r=np.arange(9)\n",
        "r.reshape(3,3)"
      ]
    },
    {
      "cell_type": "markdown",
      "metadata": {
        "id": "58YyO3SkHnZG"
      },
      "source": [
        "\n",
        "\n",
        "### Show the memory size of the given Z numpy matrix"
      ]
    },
    {
      "cell_type": "markdown",
      "metadata": {
        "id": "_vOseAiRHnZG"
      },
      "source": [
        "![purple-divider](https://user-images.githubusercontent.com/7065401/52071927-c1cd7100-2562-11e9-908a-dde91ba14e59.png)\n",
        "\n",
        "## Array indexation\n"
      ]
    },
    {
      "cell_type": "markdown",
      "metadata": {
        "id": "H8a-Du6dHnZH"
      },
      "source": [
        "### Given the X numpy array, show it's first element"
      ]
    },
    {
      "cell_type": "code",
      "execution_count": 9,
      "metadata": {
        "id": "IQLYCAM-HnZH",
        "colab": {
          "base_uri": "https://localhost:8080/"
        },
        "outputId": "f585e9e2-8f73-4df2-b624-8537c349ac7e"
      },
      "outputs": [
        {
          "output_type": "execute_result",
          "data": {
            "text/plain": [
              "1"
            ]
          },
          "metadata": {},
          "execution_count": 9
        }
      ],
      "source": [
        "# your code goes here\n",
        "x=np.array([1,2,3,4,5,6,7,8,9])\n",
        "x[0]"
      ]
    },
    {
      "cell_type": "markdown",
      "metadata": {
        "id": "6gndtKOdHnZH"
      },
      "source": [
        "\n",
        "\n",
        "### Given the X numpy array, show it's last element"
      ]
    },
    {
      "cell_type": "code",
      "execution_count": 10,
      "metadata": {
        "id": "Z2IfwSv_HnZH",
        "colab": {
          "base_uri": "https://localhost:8080/"
        },
        "outputId": "a92a10ec-4520-4158-833e-3e792dffd43c"
      },
      "outputs": [
        {
          "output_type": "execute_result",
          "data": {
            "text/plain": [
              "9"
            ]
          },
          "metadata": {},
          "execution_count": 10
        }
      ],
      "source": [
        "# your code goes here\n",
        "x[-1]"
      ]
    },
    {
      "cell_type": "markdown",
      "metadata": {
        "id": "YIkveqx4HnZI"
      },
      "source": [
        "\n",
        "\n",
        "### Given the X numpy array, show it's first three elements"
      ]
    },
    {
      "cell_type": "code",
      "execution_count": 11,
      "metadata": {
        "id": "MUYZhQKwHnZI",
        "colab": {
          "base_uri": "https://localhost:8080/"
        },
        "outputId": "866faf47-659f-4fea-d146-fc5baaf711e9"
      },
      "outputs": [
        {
          "output_type": "execute_result",
          "data": {
            "text/plain": [
              "array([1, 2, 3])"
            ]
          },
          "metadata": {},
          "execution_count": 11
        }
      ],
      "source": [
        "# your code goes here\n",
        "x[:3]"
      ]
    },
    {
      "cell_type": "markdown",
      "metadata": {
        "id": "E9cJQGSZHnZI"
      },
      "source": [
        "\n",
        "\n",
        "---\n",
        "\n",
        "\n",
        "\n",
        "### Create a numpy array with numbers from 1 to 10, in descending order."
      ]
    },
    {
      "cell_type": "code",
      "execution_count": 17,
      "metadata": {
        "id": "Yv4OsaDeHnZJ",
        "colab": {
          "base_uri": "https://localhost:8080/"
        },
        "outputId": "06c587b2-6ffe-43ab-ddb8-84aee2febe9e"
      },
      "outputs": [
        {
          "output_type": "execute_result",
          "data": {
            "text/plain": [
              "array([9, 8, 7, 6, 5, 4, 3, 2, 1])"
            ]
          },
          "metadata": {},
          "execution_count": 17
        }
      ],
      "source": [
        "# your code goes here\n",
        "#\" https://www.kite.com/python/answers/how-to-sort-a-numpy-array-in-descending-order-in-python\n",
        "x[::-1].sort()\n",
        "x"
      ]
    },
    {
      "cell_type": "markdown",
      "metadata": {
        "id": "AWtUF9yVHnZJ"
      },
      "source": [
        "\n",
        "\n",
        "### Given the X numpy array, show all middle elements"
      ]
    },
    {
      "cell_type": "code",
      "execution_count": 20,
      "metadata": {
        "id": "seJ8yvHrHnZJ",
        "colab": {
          "base_uri": "https://localhost:8080/"
        },
        "outputId": "e53c250f-fb5d-409d-ad3a-40487b18d467"
      },
      "outputs": [
        {
          "output_type": "stream",
          "name": "stdout",
          "text": [
            "Middle elements: 3 4\n"
          ]
        }
      ],
      "source": [
        "\n",
        "X = np.array([1, 2, 3, 4, 5, 6])\n",
        "if len(X) % 2 == 0:\n",
        "    middle1 = X[len(X)//2 - 1]\n",
        "    middle2 = X[len(X)//2]\n",
        "    print(\"Middle elements:\", middle1, middle2)\n",
        "else:\n",
        "    middle = X[len(X)//2]\n",
        "    print(\"Middle element:\", middle)\n"
      ]
    },
    {
      "cell_type": "markdown",
      "metadata": {
        "id": "dbdvRa5SHnZK"
      },
      "source": [
        "\n",
        "\n",
        "### Given the X numpy array, show the elements in reverse position"
      ]
    },
    {
      "cell_type": "code",
      "execution_count": 22,
      "metadata": {
        "id": "OdzLu2-eHnZK",
        "colab": {
          "base_uri": "https://localhost:8080/"
        },
        "outputId": "65d038f1-ed06-42ce-c384-37d03da12f3e"
      },
      "outputs": [
        {
          "output_type": "execute_result",
          "data": {
            "text/plain": [
              "array([6, 5, 4, 3, 2, 1])"
            ]
          },
          "metadata": {},
          "execution_count": 22
        }
      ],
      "source": [
        "# your code goes here\n",
        "X[::-1]"
      ]
    },
    {
      "cell_type": "markdown",
      "metadata": {
        "id": "WihbQTLoHnZL"
      },
      "source": [
        "\n",
        "\n",
        "### Given the X numpy array, show the elements in an odd position"
      ]
    },
    {
      "cell_type": "code",
      "execution_count": 25,
      "metadata": {
        "id": "zJmSUi2bHnZL",
        "colab": {
          "base_uri": "https://localhost:8080/"
        },
        "outputId": "722a5dff-f4ed-4e82-9fd0-89fba6ea6420"
      },
      "outputs": [
        {
          "output_type": "execute_result",
          "data": {
            "text/plain": [
              "[1, 3, 5, 7, 9]"
            ]
          },
          "metadata": {},
          "execution_count": 25
        }
      ],
      "source": [
        "# your code goes here\n",
        "x=np.array([1,2,3,4,5,6,7,8,9])\n",
        "y=[]\n",
        "for i in range(0,len(x),2):\n",
        "  y.append(x[i])\n",
        "y"
      ]
    },
    {
      "cell_type": "markdown",
      "metadata": {
        "id": "A5o9a7fCHnZM"
      },
      "source": [
        "\n",
        "\n",
        "### Given the X numpy matrix, show the first row elements"
      ]
    },
    {
      "cell_type": "code",
      "execution_count": 30,
      "metadata": {
        "id": "vOLmfZucHnZM",
        "colab": {
          "base_uri": "https://localhost:8080/"
        },
        "outputId": "16d7a9bb-a309-45e9-99f4-42c339e3b596"
      },
      "outputs": [
        {
          "output_type": "execute_result",
          "data": {
            "text/plain": [
              "array([9, 8, 7, 4])"
            ]
          },
          "metadata": {},
          "execution_count": 30
        }
      ],
      "source": [
        "# your code goes here\n",
        "b = np.array([[9,8,7,4],[6,5,4,6],[6,5,4,6]])\n",
        "b[0,:]"
      ]
    },
    {
      "cell_type": "markdown",
      "metadata": {
        "id": "Q2T66RgSHnZN"
      },
      "source": [
        "\n",
        "\n",
        "### Given the X numpy matrix, show the last row elements"
      ]
    },
    {
      "cell_type": "code",
      "execution_count": 31,
      "metadata": {
        "id": "4ktpmZIeHnZN",
        "colab": {
          "base_uri": "https://localhost:8080/"
        },
        "outputId": "e438f9d5-be87-4dab-c5d7-96b21180b69a"
      },
      "outputs": [
        {
          "output_type": "execute_result",
          "data": {
            "text/plain": [
              "array([6, 5, 4, 6])"
            ]
          },
          "metadata": {},
          "execution_count": 31
        }
      ],
      "source": [
        "# your code goes here\n",
        "b[-1,:]"
      ]
    },
    {
      "cell_type": "markdown",
      "metadata": {
        "id": "OIywmCbFHnZN"
      },
      "source": [
        "\n",
        "\n",
        "### Given the X numpy matrix, show the first element on first row"
      ]
    },
    {
      "cell_type": "code",
      "execution_count": 32,
      "metadata": {
        "id": "d_CShw8ZHnZN",
        "colab": {
          "base_uri": "https://localhost:8080/"
        },
        "outputId": "10e520c2-7bb4-4ee9-b500-b18fa8ca4794"
      },
      "outputs": [
        {
          "output_type": "execute_result",
          "data": {
            "text/plain": [
              "9"
            ]
          },
          "metadata": {},
          "execution_count": 32
        }
      ],
      "source": [
        "# your code goes here\n",
        "b[0,:][0]"
      ]
    },
    {
      "cell_type": "markdown",
      "metadata": {
        "id": "cjQvWWfmHnZO"
      },
      "source": [
        "\n",
        "\n",
        "### Given the X numpy matrix, show the last element on last row"
      ]
    },
    {
      "cell_type": "code",
      "execution_count": 33,
      "metadata": {
        "id": "Ainz4U3pHnZO",
        "colab": {
          "base_uri": "https://localhost:8080/"
        },
        "outputId": "4e4d5d7d-ffda-4478-f229-c3f35ec9df50"
      },
      "outputs": [
        {
          "output_type": "execute_result",
          "data": {
            "text/plain": [
              "6"
            ]
          },
          "metadata": {},
          "execution_count": 33
        }
      ],
      "source": [
        "# your code goes here\n",
        "b[-1,:][-1]"
      ]
    },
    {
      "cell_type": "markdown",
      "metadata": {
        "id": "SiYapLUfHnZP"
      },
      "source": [
        "\n",
        "\n",
        "### Given the X numpy matrix, show the last two elements on the last two rows"
      ]
    },
    {
      "cell_type": "code",
      "execution_count": 34,
      "metadata": {
        "id": "a2llfffdHnZQ",
        "colab": {
          "base_uri": "https://localhost:8080/"
        },
        "outputId": "7cf4b419-4bdb-449a-abe7-08bf0b1c4a0d"
      },
      "outputs": [
        {
          "output_type": "execute_result",
          "data": {
            "text/plain": [
              "array([[4, 6],\n",
              "       [4, 6]])"
            ]
          },
          "metadata": {},
          "execution_count": 34
        }
      ],
      "source": [
        "# your code goes here\n",
        "b[1:,2:]"
      ]
    },
    {
      "cell_type": "markdown",
      "metadata": {
        "id": "J-TxZYRdHnZQ"
      },
      "source": [
        "![purple-divider](https://user-images.githubusercontent.com/7065401/52071927-c1cd7100-2562-11e9-908a-dde91ba14e59.png)\n",
        "\n",
        "## Array manipulation\n"
      ]
    },
    {
      "cell_type": "markdown",
      "metadata": {
        "id": "_WTALQ7DHnZR"
      },
      "source": [
        "### Convert the given integer numpy array to float"
      ]
    },
    {
      "cell_type": "code",
      "execution_count": 47,
      "metadata": {
        "id": "xJup17YXHnZR",
        "colab": {
          "base_uri": "https://localhost:8080/"
        },
        "outputId": "aa03fb3f-7227-4715-e5c9-c55dc871716f"
      },
      "outputs": [
        {
          "output_type": "execute_result",
          "data": {
            "text/plain": [
              "array([1, 2, 3, 4, 5, 6, 7, 8, 9])"
            ]
          },
          "metadata": {},
          "execution_count": 47
        }
      ],
      "source": [
        "# your code goes here\n",
        "a=np.array([1,2,3,4,5,6,7,8,9],dtype=float)\n",
        "b=a.astype(int)\n",
        "b"
      ]
    },
    {
      "cell_type": "markdown",
      "metadata": {
        "id": "Z6bMxHKaHnZS"
      },
      "source": [
        "\n",
        "\n",
        "### Reverse the given numpy array (first element becomes last)"
      ]
    },
    {
      "cell_type": "code",
      "execution_count": 49,
      "metadata": {
        "id": "OJOn6iRGHnZS",
        "colab": {
          "base_uri": "https://localhost:8080/"
        },
        "outputId": "4c1ba30c-24d0-47f2-db4d-c500f03fffb2"
      },
      "outputs": [
        {
          "output_type": "execute_result",
          "data": {
            "text/plain": [
              "array([9, 8, 7, 6, 5, 4, 3, 2, 1])"
            ]
          },
          "metadata": {},
          "execution_count": 49
        }
      ],
      "source": [
        "# your code goes here\n",
        "b[::-1]"
      ]
    },
    {
      "cell_type": "markdown",
      "metadata": {
        "id": "5JUiEl2NHnZS"
      },
      "source": [
        "\n",
        "\n",
        "### Order (sort) the given numpy array"
      ]
    },
    {
      "cell_type": "code",
      "execution_count": 53,
      "metadata": {
        "id": "NYwfYL2tHnZT",
        "colab": {
          "base_uri": "https://localhost:8080/"
        },
        "outputId": "913f01f4-d136-4cd8-cab8-c5b91bef7ec9"
      },
      "outputs": [
        {
          "output_type": "execute_result",
          "data": {
            "text/plain": [
              "array([9., 8., 7., 6., 5., 4., 3., 2., 1.])"
            ]
          },
          "metadata": {},
          "execution_count": 53
        }
      ],
      "source": [
        "# your code goes here\n",
        "a[::-1].sort()\n",
        "a"
      ]
    },
    {
      "cell_type": "markdown",
      "metadata": {
        "id": "ZRKfXIBuHnZT"
      },
      "source": [
        "\n",
        "\n",
        "### Given the X numpy array, set the fifth element equal to 1"
      ]
    },
    {
      "cell_type": "code",
      "execution_count": 56,
      "metadata": {
        "id": "OPPtdD_sHnZU",
        "colab": {
          "base_uri": "https://localhost:8080/"
        },
        "outputId": "c5323099-02f0-46bc-84be-9465f2fa37d3"
      },
      "outputs": [
        {
          "output_type": "stream",
          "name": "stdout",
          "text": [
            "l'element est  12\n"
          ]
        }
      ],
      "source": [
        "# your code goes here\n",
        "r=np.array([1,2,1,5,4,1,2,1,3,0,4,5,1])\n",
        "sum=0\n",
        "for i in range(len(r)):\n",
        "  if r[i]==1:\n",
        "     sum=sum+1\n",
        "     if sum==5:\n",
        "       print(\"l'element est \",i)\n"
      ]
    },
    {
      "cell_type": "markdown",
      "metadata": {
        "id": "uwZU_3N-HnZU"
      },
      "source": [
        "\n",
        "\n",
        "### Given the X numpy array, change the 50 with a 40"
      ]
    },
    {
      "cell_type": "code",
      "execution_count": 58,
      "metadata": {
        "id": "Z2MBhbFgHnZU",
        "colab": {
          "base_uri": "https://localhost:8080/"
        },
        "outputId": "65b5f4d9-7c9e-410b-8ce0-e78ac144c18c"
      },
      "outputs": [
        {
          "output_type": "execute_result",
          "data": {
            "text/plain": [
              "array([ 1, 20,  4, 58, 40, 70, 20, 40])"
            ]
          },
          "metadata": {},
          "execution_count": 58
        }
      ],
      "source": [
        "# your code goes here\n",
        "t=np.array([1,20,4,58,50,70,20,40])\n",
        "for i in range(len(t)):\n",
        "  if t[i]==50:\n",
        "     t[i]=40\n",
        "t"
      ]
    },
    {
      "cell_type": "markdown",
      "metadata": {
        "id": "An13osDlHnZV"
      },
      "source": [
        "\n",
        "### Given the X numpy matrix, change the last row with all 1"
      ]
    },
    {
      "cell_type": "code",
      "execution_count": 83,
      "metadata": {
        "id": "dSEEx87wHnZV",
        "colab": {
          "base_uri": "https://localhost:8080/"
        },
        "outputId": "c84ee1f5-0942-41c7-c445-f77429382566"
      },
      "outputs": [
        {
          "output_type": "execute_result",
          "data": {
            "text/plain": [
              "array([[9, 8, 7, 4],\n",
              "       [6, 5, 4, 6],\n",
              "       [1, 1, 1, 1]])"
            ]
          },
          "metadata": {},
          "execution_count": 83
        }
      ],
      "source": [
        "# your code goes here\n",
        "b = np.array([[9,8,7,4],[6,5,4,6],[6,5,4,6]])\n",
        "b[-1,:]=1\n",
        "b"
      ]
    },
    {
      "cell_type": "markdown",
      "metadata": {
        "id": "pX5feCZmHnZV"
      },
      "source": [
        "\n",
        "### Given the X numpy matrix, change the last item on the last row with a 0"
      ]
    },
    {
      "cell_type": "code",
      "execution_count": 68,
      "metadata": {
        "id": "2lseJYp6HnZV",
        "colab": {
          "base_uri": "https://localhost:8080/"
        },
        "outputId": "83ac5b9f-0ed7-48b8-ebf5-e4253f2a8fd4"
      },
      "outputs": [
        {
          "output_type": "execute_result",
          "data": {
            "text/plain": [
              "array([[9, 8, 7, 4],\n",
              "       [6, 5, 4, 6],\n",
              "       [1, 1, 1, 0]])"
            ]
          },
          "metadata": {},
          "execution_count": 68
        }
      ],
      "source": [
        "# your code goes here\n",
        "b[-1,-1]=0\n",
        "b\n"
      ]
    },
    {
      "cell_type": "markdown",
      "metadata": {
        "id": "pJ_Xo2iUHnZW"
      },
      "source": [
        "\n",
        "### Given the X numpy matrix, add 5 to every element"
      ]
    },
    {
      "cell_type": "code",
      "source": [
        "len(b)"
      ],
      "metadata": {
        "colab": {
          "base_uri": "https://localhost:8080/"
        },
        "id": "OAVFeW3oXiBT",
        "outputId": "0c453abd-237f-4558-b928-d0c6920c3564"
      },
      "execution_count": 74,
      "outputs": [
        {
          "output_type": "execute_result",
          "data": {
            "text/plain": [
              "3"
            ]
          },
          "metadata": {},
          "execution_count": 74
        }
      ]
    },
    {
      "cell_type": "code",
      "source": [
        "for i in range(len(b)):\n",
        "  b[i]=b[i]+5\n",
        "b  "
      ],
      "metadata": {
        "colab": {
          "base_uri": "https://localhost:8080/"
        },
        "id": "AdAqwwNzXHZz",
        "outputId": "97a72eff-b948-45a6-c2d9-8e23e5c4dcd8"
      },
      "execution_count": 84,
      "outputs": [
        {
          "output_type": "execute_result",
          "data": {
            "text/plain": [
              "array([[14, 13, 12,  9],\n",
              "       [11, 10,  9, 11],\n",
              "       [ 6,  6,  6,  6]])"
            ]
          },
          "metadata": {},
          "execution_count": 84
        }
      ]
    },
    {
      "cell_type": "markdown",
      "metadata": {
        "id": "An8d-xg7HnZW"
      },
      "source": [
        "\n",
        "## Boolean arrays _(also called masks)_\n"
      ]
    },
    {
      "cell_type": "markdown",
      "metadata": {
        "id": "_xr7PyITHnZW"
      },
      "source": [
        "### Given the X numpy array, make a mask showing negative elements"
      ]
    },
    {
      "cell_type": "code",
      "execution_count": 85,
      "metadata": {
        "colab": {
          "base_uri": "https://localhost:8080/"
        },
        "id": "gY1FoZe6HnZX",
        "outputId": "2dbd692e-6738-4bcf-87a5-65e3fb5dce95"
      },
      "outputs": [
        {
          "output_type": "execute_result",
          "data": {
            "text/plain": [
              "array([ True, False,  True, False, False, False])"
            ]
          },
          "metadata": {},
          "execution_count": 85
        }
      ],
      "source": [
        "# your code goes here\n",
        "a = np.array([-4,5,1,2,3,5])\n",
        "a<=1"
      ]
    },
    {
      "cell_type": "markdown",
      "metadata": {
        "id": "o8i61n03HnZX"
      },
      "source": [
        "\n",
        "### Given the X numpy array, get the negative elements"
      ]
    },
    {
      "cell_type": "code",
      "execution_count": null,
      "metadata": {
        "colab": {
          "base_uri": "https://localhost:8080/"
        },
        "id": "JMGzgIvzHnZY",
        "outputId": "b8756310-4871-4261-ed69-72430f239d14"
      },
      "outputs": [
        {
          "data": {
            "text/plain": [
              "array([-4])"
            ]
          },
          "execution_count": 47,
          "metadata": {},
          "output_type": "execute_result"
        }
      ],
      "source": [
        "# your code goes here\n",
        "a[a<0]"
      ]
    },
    {
      "cell_type": "markdown",
      "metadata": {
        "id": "6yK7EuRWHnZY"
      },
      "source": [
        "\n",
        "### Given the X numpy array, get numbers higher than 5"
      ]
    },
    {
      "cell_type": "code",
      "execution_count": 86,
      "metadata": {
        "id": "LlDKo3jVHnZY",
        "colab": {
          "base_uri": "https://localhost:8080/"
        },
        "outputId": "316651f0-4d8a-42d3-ba47-670601a279d7"
      },
      "outputs": [
        {
          "output_type": "execute_result",
          "data": {
            "text/plain": [
              "array([], dtype=int64)"
            ]
          },
          "metadata": {},
          "execution_count": 86
        }
      ],
      "source": [
        "# your code goes here\n",
        "a[5<a]"
      ]
    },
    {
      "cell_type": "markdown",
      "metadata": {
        "id": "fZt60Wp_HnZZ"
      },
      "source": [
        "\n",
        "### Given the X numpy array, get numbers higher than the elements mean"
      ]
    },
    {
      "cell_type": "code",
      "execution_count": 87,
      "metadata": {
        "colab": {
          "base_uri": "https://localhost:8080/"
        },
        "id": "2YE_HBzkHnZZ",
        "outputId": "7a079fd2-c529-4183-c36b-caf165caa197"
      },
      "outputs": [
        {
          "output_type": "execute_result",
          "data": {
            "text/plain": [
              "array([-4,  1])"
            ]
          },
          "metadata": {},
          "execution_count": 87
        }
      ],
      "source": [
        "# your code goes here\n",
        "a[a <a.mean()]"
      ]
    },
    {
      "cell_type": "markdown",
      "metadata": {
        "id": "pKHcDK8RHnZZ"
      },
      "source": [
        "\n",
        "### Given the X numpy array, get numbers equal to 2 or 10"
      ]
    },
    {
      "cell_type": "code",
      "execution_count": 89,
      "metadata": {
        "colab": {
          "base_uri": "https://localhost:8080/"
        },
        "id": "4k5YwZACHnZZ",
        "outputId": "e7083fa8-ea15-48ab-9263-e9966333100d"
      },
      "outputs": [
        {
          "output_type": "execute_result",
          "data": {
            "text/plain": [
              "array([2])"
            ]
          },
          "metadata": {},
          "execution_count": 89
        }
      ],
      "source": [
        "# your code goes here\n",
        "a [(a == 2) | (a == 10)]"
      ]
    },
    {
      "cell_type": "markdown",
      "metadata": {
        "id": "0pNMtKC2HnZb"
      },
      "source": [
        "\n",
        "## Summary statistics"
      ]
    },
    {
      "cell_type": "markdown",
      "metadata": {
        "id": "sIMD7lIfHnZc"
      },
      "source": [
        "### Given the X numpy array, show the sum of its elements"
      ]
    },
    {
      "cell_type": "code",
      "execution_count": 92,
      "metadata": {
        "colab": {
          "base_uri": "https://localhost:8080/"
        },
        "id": "Qdp3Ww0JHnZc",
        "outputId": "430dbbad-0672-4bf2-c99f-14d14a7e08d0"
      },
      "outputs": [
        {
          "output_type": "execute_result",
          "data": {
            "text/plain": [
              "10"
            ]
          },
          "metadata": {},
          "execution_count": 92
        }
      ],
      "source": [
        "# your code goes here\n",
        "u=np.array([1,2,3,4])\n",
        "u.sum()\n",
        "\n"
      ]
    },
    {
      "cell_type": "markdown",
      "metadata": {
        "id": "JpXwIX3THnZc"
      },
      "source": [
        "\n",
        "### Given the X numpy array, show the mean value of its elements"
      ]
    },
    {
      "cell_type": "code",
      "execution_count": null,
      "metadata": {
        "id": "bYLDvSrnHnZc"
      },
      "outputs": [],
      "source": [
        "# your code goes here\n"
      ]
    },
    {
      "cell_type": "code",
      "execution_count": null,
      "metadata": {
        "colab": {
          "base_uri": "https://localhost:8080/"
        },
        "id": "X3vF5x2IXLmP",
        "outputId": "cf518a32-35e0-4ac1-8a2a-580bd65d1624"
      },
      "outputs": [
        {
          "data": {
            "text/plain": [
              "array([-4,  5,  1,  2,  3,  5])"
            ]
          },
          "execution_count": 56,
          "metadata": {},
          "output_type": "execute_result"
        }
      ],
      "source": [
        "a"
      ]
    },
    {
      "cell_type": "code",
      "source": [
        "a.mean()"
      ],
      "metadata": {
        "colab": {
          "base_uri": "https://localhost:8080/"
        },
        "id": "vhNgq_oEZbI0",
        "outputId": "e7f309bf-38bc-492e-cf8c-e626adda8185"
      },
      "execution_count": 95,
      "outputs": [
        {
          "output_type": "execute_result",
          "data": {
            "text/plain": [
              "2.0"
            ]
          },
          "metadata": {},
          "execution_count": 95
        }
      ]
    },
    {
      "cell_type": "markdown",
      "metadata": {
        "id": "tE5v9xRsHnZe"
      },
      "source": [
        "### Given the X numpy array, show the max value of its elements"
      ]
    },
    {
      "cell_type": "markdown",
      "metadata": {
        "id": "qdvFtNbVfZlk"
      },
      "source": [
        "![purple-divider](https://user-images.githubusercontent.com/7065401/52071927-c1cd7100-2562-11e9-908a-dde91ba14e59.png)\n",
        "\n"
      ]
    },
    {
      "cell_type": "markdown",
      "metadata": {
        "id": "K6Gga-cweNJO"
      },
      "source": [
        "# Answer The following questions!"
      ]
    },
    {
      "cell_type": "code",
      "execution_count": 96,
      "metadata": {
        "id": "iLFpFLhbHnZe"
      },
      "outputs": [],
      "source": [
        "# your code goes here\n",
        "import seaborn as sns"
      ]
    },
    {
      "cell_type": "code",
      "execution_count": 97,
      "metadata": {
        "colab": {
          "base_uri": "https://localhost:8080/"
        },
        "id": "sxKouX1nfr55",
        "outputId": "7b3af4c7-0402-4359-bca1-2ebcf3d862cb"
      },
      "outputs": [
        {
          "output_type": "execute_result",
          "data": {
            "text/plain": [
              "['anagrams',\n",
              " 'anscombe',\n",
              " 'attention',\n",
              " 'brain_networks',\n",
              " 'car_crashes',\n",
              " 'diamonds',\n",
              " 'dots',\n",
              " 'dowjones',\n",
              " 'exercise',\n",
              " 'flights',\n",
              " 'fmri',\n",
              " 'geyser',\n",
              " 'glue',\n",
              " 'healthexp',\n",
              " 'iris',\n",
              " 'mpg',\n",
              " 'penguins',\n",
              " 'planets',\n",
              " 'seaice',\n",
              " 'taxis',\n",
              " 'tips',\n",
              " 'titanic']"
            ]
          },
          "metadata": {},
          "execution_count": 97
        }
      ],
      "source": [
        "sns.get_dataset_names()"
      ]
    },
    {
      "cell_type": "code",
      "execution_count": null,
      "metadata": {
        "id": "-UERzQs3gQ8-"
      },
      "outputs": [],
      "source": []
    },
    {
      "cell_type": "code",
      "execution_count": 98,
      "metadata": {
        "id": "Fw_kwXglfvUn"
      },
      "outputs": [],
      "source": [
        "df = sns.load_dataset('titanic')"
      ]
    },
    {
      "cell_type": "code",
      "execution_count": 99,
      "metadata": {
        "colab": {
          "base_uri": "https://localhost:8080/",
          "height": 423
        },
        "id": "4nTKNj5HgOr4",
        "outputId": "25848c42-0702-4ba6-fa45-1e97d69bc0e7"
      },
      "outputs": [
        {
          "output_type": "execute_result",
          "data": {
            "text/plain": [
              "     survived  pclass     sex   age  sibsp  parch     fare embarked   class  \\\n",
              "2           1       3  female  26.0      0      0   7.9250        S   Third   \n",
              "4           0       3    male  35.0      0      0   8.0500        S   Third   \n",
              "5           0       3    male   NaN      0      0   8.4583        Q   Third   \n",
              "6           0       1    male  54.0      0      0  51.8625        S   First   \n",
              "11          1       1  female  58.0      0      0  26.5500        S   First   \n",
              "..        ...     ...     ...   ...    ...    ...      ...      ...     ...   \n",
              "884         0       3    male  25.0      0      0   7.0500        S   Third   \n",
              "886         0       2    male  27.0      0      0  13.0000        S  Second   \n",
              "887         1       1  female  19.0      0      0  30.0000        S   First   \n",
              "889         1       1    male  26.0      0      0  30.0000        C   First   \n",
              "890         0       3    male  32.0      0      0   7.7500        Q   Third   \n",
              "\n",
              "       who  adult_male deck  embark_town alive  alone  \n",
              "2    woman       False  NaN  Southampton   yes   True  \n",
              "4      man        True  NaN  Southampton    no   True  \n",
              "5      man        True  NaN   Queenstown    no   True  \n",
              "6      man        True    E  Southampton    no   True  \n",
              "11   woman       False    C  Southampton   yes   True  \n",
              "..     ...         ...  ...          ...   ...    ...  \n",
              "884    man        True  NaN  Southampton    no   True  \n",
              "886    man        True  NaN  Southampton    no   True  \n",
              "887  woman       False    B  Southampton   yes   True  \n",
              "889    man        True    C    Cherbourg   yes   True  \n",
              "890    man        True  NaN   Queenstown    no   True  \n",
              "\n",
              "[537 rows x 15 columns]"
            ],
            "text/html": [
              "\n",
              "  <div id=\"df-6878b1aa-5b45-4202-9da3-3c4856af8b8f\">\n",
              "    <div class=\"colab-df-container\">\n",
              "      <div>\n",
              "<style scoped>\n",
              "    .dataframe tbody tr th:only-of-type {\n",
              "        vertical-align: middle;\n",
              "    }\n",
              "\n",
              "    .dataframe tbody tr th {\n",
              "        vertical-align: top;\n",
              "    }\n",
              "\n",
              "    .dataframe thead th {\n",
              "        text-align: right;\n",
              "    }\n",
              "</style>\n",
              "<table border=\"1\" class=\"dataframe\">\n",
              "  <thead>\n",
              "    <tr style=\"text-align: right;\">\n",
              "      <th></th>\n",
              "      <th>survived</th>\n",
              "      <th>pclass</th>\n",
              "      <th>sex</th>\n",
              "      <th>age</th>\n",
              "      <th>sibsp</th>\n",
              "      <th>parch</th>\n",
              "      <th>fare</th>\n",
              "      <th>embarked</th>\n",
              "      <th>class</th>\n",
              "      <th>who</th>\n",
              "      <th>adult_male</th>\n",
              "      <th>deck</th>\n",
              "      <th>embark_town</th>\n",
              "      <th>alive</th>\n",
              "      <th>alone</th>\n",
              "    </tr>\n",
              "  </thead>\n",
              "  <tbody>\n",
              "    <tr>\n",
              "      <th>2</th>\n",
              "      <td>1</td>\n",
              "      <td>3</td>\n",
              "      <td>female</td>\n",
              "      <td>26.0</td>\n",
              "      <td>0</td>\n",
              "      <td>0</td>\n",
              "      <td>7.9250</td>\n",
              "      <td>S</td>\n",
              "      <td>Third</td>\n",
              "      <td>woman</td>\n",
              "      <td>False</td>\n",
              "      <td>NaN</td>\n",
              "      <td>Southampton</td>\n",
              "      <td>yes</td>\n",
              "      <td>True</td>\n",
              "    </tr>\n",
              "    <tr>\n",
              "      <th>4</th>\n",
              "      <td>0</td>\n",
              "      <td>3</td>\n",
              "      <td>male</td>\n",
              "      <td>35.0</td>\n",
              "      <td>0</td>\n",
              "      <td>0</td>\n",
              "      <td>8.0500</td>\n",
              "      <td>S</td>\n",
              "      <td>Third</td>\n",
              "      <td>man</td>\n",
              "      <td>True</td>\n",
              "      <td>NaN</td>\n",
              "      <td>Southampton</td>\n",
              "      <td>no</td>\n",
              "      <td>True</td>\n",
              "    </tr>\n",
              "    <tr>\n",
              "      <th>5</th>\n",
              "      <td>0</td>\n",
              "      <td>3</td>\n",
              "      <td>male</td>\n",
              "      <td>NaN</td>\n",
              "      <td>0</td>\n",
              "      <td>0</td>\n",
              "      <td>8.4583</td>\n",
              "      <td>Q</td>\n",
              "      <td>Third</td>\n",
              "      <td>man</td>\n",
              "      <td>True</td>\n",
              "      <td>NaN</td>\n",
              "      <td>Queenstown</td>\n",
              "      <td>no</td>\n",
              "      <td>True</td>\n",
              "    </tr>\n",
              "    <tr>\n",
              "      <th>6</th>\n",
              "      <td>0</td>\n",
              "      <td>1</td>\n",
              "      <td>male</td>\n",
              "      <td>54.0</td>\n",
              "      <td>0</td>\n",
              "      <td>0</td>\n",
              "      <td>51.8625</td>\n",
              "      <td>S</td>\n",
              "      <td>First</td>\n",
              "      <td>man</td>\n",
              "      <td>True</td>\n",
              "      <td>E</td>\n",
              "      <td>Southampton</td>\n",
              "      <td>no</td>\n",
              "      <td>True</td>\n",
              "    </tr>\n",
              "    <tr>\n",
              "      <th>11</th>\n",
              "      <td>1</td>\n",
              "      <td>1</td>\n",
              "      <td>female</td>\n",
              "      <td>58.0</td>\n",
              "      <td>0</td>\n",
              "      <td>0</td>\n",
              "      <td>26.5500</td>\n",
              "      <td>S</td>\n",
              "      <td>First</td>\n",
              "      <td>woman</td>\n",
              "      <td>False</td>\n",
              "      <td>C</td>\n",
              "      <td>Southampton</td>\n",
              "      <td>yes</td>\n",
              "      <td>True</td>\n",
              "    </tr>\n",
              "    <tr>\n",
              "      <th>...</th>\n",
              "      <td>...</td>\n",
              "      <td>...</td>\n",
              "      <td>...</td>\n",
              "      <td>...</td>\n",
              "      <td>...</td>\n",
              "      <td>...</td>\n",
              "      <td>...</td>\n",
              "      <td>...</td>\n",
              "      <td>...</td>\n",
              "      <td>...</td>\n",
              "      <td>...</td>\n",
              "      <td>...</td>\n",
              "      <td>...</td>\n",
              "      <td>...</td>\n",
              "      <td>...</td>\n",
              "    </tr>\n",
              "    <tr>\n",
              "      <th>884</th>\n",
              "      <td>0</td>\n",
              "      <td>3</td>\n",
              "      <td>male</td>\n",
              "      <td>25.0</td>\n",
              "      <td>0</td>\n",
              "      <td>0</td>\n",
              "      <td>7.0500</td>\n",
              "      <td>S</td>\n",
              "      <td>Third</td>\n",
              "      <td>man</td>\n",
              "      <td>True</td>\n",
              "      <td>NaN</td>\n",
              "      <td>Southampton</td>\n",
              "      <td>no</td>\n",
              "      <td>True</td>\n",
              "    </tr>\n",
              "    <tr>\n",
              "      <th>886</th>\n",
              "      <td>0</td>\n",
              "      <td>2</td>\n",
              "      <td>male</td>\n",
              "      <td>27.0</td>\n",
              "      <td>0</td>\n",
              "      <td>0</td>\n",
              "      <td>13.0000</td>\n",
              "      <td>S</td>\n",
              "      <td>Second</td>\n",
              "      <td>man</td>\n",
              "      <td>True</td>\n",
              "      <td>NaN</td>\n",
              "      <td>Southampton</td>\n",
              "      <td>no</td>\n",
              "      <td>True</td>\n",
              "    </tr>\n",
              "    <tr>\n",
              "      <th>887</th>\n",
              "      <td>1</td>\n",
              "      <td>1</td>\n",
              "      <td>female</td>\n",
              "      <td>19.0</td>\n",
              "      <td>0</td>\n",
              "      <td>0</td>\n",
              "      <td>30.0000</td>\n",
              "      <td>S</td>\n",
              "      <td>First</td>\n",
              "      <td>woman</td>\n",
              "      <td>False</td>\n",
              "      <td>B</td>\n",
              "      <td>Southampton</td>\n",
              "      <td>yes</td>\n",
              "      <td>True</td>\n",
              "    </tr>\n",
              "    <tr>\n",
              "      <th>889</th>\n",
              "      <td>1</td>\n",
              "      <td>1</td>\n",
              "      <td>male</td>\n",
              "      <td>26.0</td>\n",
              "      <td>0</td>\n",
              "      <td>0</td>\n",
              "      <td>30.0000</td>\n",
              "      <td>C</td>\n",
              "      <td>First</td>\n",
              "      <td>man</td>\n",
              "      <td>True</td>\n",
              "      <td>C</td>\n",
              "      <td>Cherbourg</td>\n",
              "      <td>yes</td>\n",
              "      <td>True</td>\n",
              "    </tr>\n",
              "    <tr>\n",
              "      <th>890</th>\n",
              "      <td>0</td>\n",
              "      <td>3</td>\n",
              "      <td>male</td>\n",
              "      <td>32.0</td>\n",
              "      <td>0</td>\n",
              "      <td>0</td>\n",
              "      <td>7.7500</td>\n",
              "      <td>Q</td>\n",
              "      <td>Third</td>\n",
              "      <td>man</td>\n",
              "      <td>True</td>\n",
              "      <td>NaN</td>\n",
              "      <td>Queenstown</td>\n",
              "      <td>no</td>\n",
              "      <td>True</td>\n",
              "    </tr>\n",
              "  </tbody>\n",
              "</table>\n",
              "<p>537 rows × 15 columns</p>\n",
              "</div>\n",
              "      <button class=\"colab-df-convert\" onclick=\"convertToInteractive('df-6878b1aa-5b45-4202-9da3-3c4856af8b8f')\"\n",
              "              title=\"Convert this dataframe to an interactive table.\"\n",
              "              style=\"display:none;\">\n",
              "        \n",
              "  <svg xmlns=\"http://www.w3.org/2000/svg\" height=\"24px\"viewBox=\"0 0 24 24\"\n",
              "       width=\"24px\">\n",
              "    <path d=\"M0 0h24v24H0V0z\" fill=\"none\"/>\n",
              "    <path d=\"M18.56 5.44l.94 2.06.94-2.06 2.06-.94-2.06-.94-.94-2.06-.94 2.06-2.06.94zm-11 1L8.5 8.5l.94-2.06 2.06-.94-2.06-.94L8.5 2.5l-.94 2.06-2.06.94zm10 10l.94 2.06.94-2.06 2.06-.94-2.06-.94-.94-2.06-.94 2.06-2.06.94z\"/><path d=\"M17.41 7.96l-1.37-1.37c-.4-.4-.92-.59-1.43-.59-.52 0-1.04.2-1.43.59L10.3 9.45l-7.72 7.72c-.78.78-.78 2.05 0 2.83L4 21.41c.39.39.9.59 1.41.59.51 0 1.02-.2 1.41-.59l7.78-7.78 2.81-2.81c.8-.78.8-2.07 0-2.86zM5.41 20L4 18.59l7.72-7.72 1.47 1.35L5.41 20z\"/>\n",
              "  </svg>\n",
              "      </button>\n",
              "      \n",
              "  <style>\n",
              "    .colab-df-container {\n",
              "      display:flex;\n",
              "      flex-wrap:wrap;\n",
              "      gap: 12px;\n",
              "    }\n",
              "\n",
              "    .colab-df-convert {\n",
              "      background-color: #E8F0FE;\n",
              "      border: none;\n",
              "      border-radius: 50%;\n",
              "      cursor: pointer;\n",
              "      display: none;\n",
              "      fill: #1967D2;\n",
              "      height: 32px;\n",
              "      padding: 0 0 0 0;\n",
              "      width: 32px;\n",
              "    }\n",
              "\n",
              "    .colab-df-convert:hover {\n",
              "      background-color: #E2EBFA;\n",
              "      box-shadow: 0px 1px 2px rgba(60, 64, 67, 0.3), 0px 1px 3px 1px rgba(60, 64, 67, 0.15);\n",
              "      fill: #174EA6;\n",
              "    }\n",
              "\n",
              "    [theme=dark] .colab-df-convert {\n",
              "      background-color: #3B4455;\n",
              "      fill: #D2E3FC;\n",
              "    }\n",
              "\n",
              "    [theme=dark] .colab-df-convert:hover {\n",
              "      background-color: #434B5C;\n",
              "      box-shadow: 0px 1px 3px 1px rgba(0, 0, 0, 0.15);\n",
              "      filter: drop-shadow(0px 1px 2px rgba(0, 0, 0, 0.3));\n",
              "      fill: #FFFFFF;\n",
              "    }\n",
              "  </style>\n",
              "\n",
              "      <script>\n",
              "        const buttonEl =\n",
              "          document.querySelector('#df-6878b1aa-5b45-4202-9da3-3c4856af8b8f button.colab-df-convert');\n",
              "        buttonEl.style.display =\n",
              "          google.colab.kernel.accessAllowed ? 'block' : 'none';\n",
              "\n",
              "        async function convertToInteractive(key) {\n",
              "          const element = document.querySelector('#df-6878b1aa-5b45-4202-9da3-3c4856af8b8f');\n",
              "          const dataTable =\n",
              "            await google.colab.kernel.invokeFunction('convertToInteractive',\n",
              "                                                     [key], {});\n",
              "          if (!dataTable) return;\n",
              "\n",
              "          const docLinkHtml = 'Like what you see? Visit the ' +\n",
              "            '<a target=\"_blank\" href=https://colab.research.google.com/notebooks/data_table.ipynb>data table notebook</a>'\n",
              "            + ' to learn more about interactive tables.';\n",
              "          element.innerHTML = '';\n",
              "          dataTable['output_type'] = 'display_data';\n",
              "          await google.colab.output.renderOutput(dataTable, element);\n",
              "          const docLink = document.createElement('div');\n",
              "          docLink.innerHTML = docLinkHtml;\n",
              "          element.appendChild(docLink);\n",
              "        }\n",
              "      </script>\n",
              "    </div>\n",
              "  </div>\n",
              "  "
            ]
          },
          "metadata": {},
          "execution_count": 99
        }
      ],
      "source": [
        "df[df.alone==True]"
      ]
    },
    {
      "cell_type": "markdown",
      "metadata": {
        "id": "rr551olPf2uo"
      },
      "source": [
        "# Average age of woman category."
      ]
    },
    {
      "cell_type": "code",
      "execution_count": null,
      "metadata": {
        "colab": {
          "base_uri": "https://localhost:8080/"
        },
        "id": "bixJr9lyfzTU",
        "outputId": "a062726a-842a-4492-cce7-4cb86fe19d04"
      },
      "outputs": [
        {
          "output_type": "execute_result",
          "data": {
            "text/plain": [
              "32.0"
            ]
          },
          "metadata": {},
          "execution_count": 184
        }
      ],
      "source": [
        "df[df.who=='woman'].age.mean()\n"
      ]
    },
    {
      "cell_type": "markdown",
      "metadata": {
        "id": "7nZayYnMgGrq"
      },
      "source": [
        "## Average age of man category."
      ]
    },
    {
      "cell_type": "code",
      "execution_count": null,
      "metadata": {
        "colab": {
          "base_uri": "https://localhost:8080/"
        },
        "id": "kSFLxy6cgH_J",
        "outputId": "e222f14f-8cb2-4267-9f62-6bff1c38b8fb"
      },
      "outputs": [
        {
          "data": {
            "text/plain": [
              "(0, 15)"
            ]
          },
          "execution_count": 14,
          "metadata": {},
          "output_type": "execute_result"
        }
      ],
      "source": [
        "df[df.alive == \"True\"].shape"
      ]
    },
    {
      "cell_type": "markdown",
      "metadata": {
        "id": "OcA_gkVCgJae"
      },
      "source": [
        "## The lowest age among alone woman."
      ]
    },
    {
      "cell_type": "code",
      "execution_count": null,
      "metadata": {
        "colab": {
          "base_uri": "https://localhost:8080/",
          "height": 439
        },
        "id": "d0Q0N28egPQk",
        "outputId": "ffd8e669-cd90-4a95-e765-acb0fe6c495c"
      },
      "outputs": [
        {
          "data": {
            "text/html": [
              "<div>\n",
              "<style scoped>\n",
              "    .dataframe tbody tr th:only-of-type {\n",
              "        vertical-align: middle;\n",
              "    }\n",
              "\n",
              "    .dataframe tbody tr th {\n",
              "        vertical-align: top;\n",
              "    }\n",
              "\n",
              "    .dataframe thead th {\n",
              "        text-align: right;\n",
              "    }\n",
              "</style>\n",
              "<table border=\"1\" class=\"dataframe\">\n",
              "  <thead>\n",
              "    <tr style=\"text-align: right;\">\n",
              "      <th></th>\n",
              "      <th>survived</th>\n",
              "      <th>pclass</th>\n",
              "      <th>sex</th>\n",
              "      <th>age</th>\n",
              "      <th>sibsp</th>\n",
              "      <th>parch</th>\n",
              "      <th>fare</th>\n",
              "      <th>embarked</th>\n",
              "      <th>class</th>\n",
              "      <th>who</th>\n",
              "      <th>adult_male</th>\n",
              "      <th>deck</th>\n",
              "      <th>embark_town</th>\n",
              "      <th>alive</th>\n",
              "      <th>alone</th>\n",
              "    </tr>\n",
              "  </thead>\n",
              "  <tbody>\n",
              "    <tr>\n",
              "      <th>0</th>\n",
              "      <td>0</td>\n",
              "      <td>3</td>\n",
              "      <td>male</td>\n",
              "      <td>22.0</td>\n",
              "      <td>1</td>\n",
              "      <td>0</td>\n",
              "      <td>7.2500</td>\n",
              "      <td>S</td>\n",
              "      <td>Third</td>\n",
              "      <td>man</td>\n",
              "      <td>True</td>\n",
              "      <td>NaN</td>\n",
              "      <td>Southampton</td>\n",
              "      <td>no</td>\n",
              "      <td>False</td>\n",
              "    </tr>\n",
              "    <tr>\n",
              "      <th>4</th>\n",
              "      <td>0</td>\n",
              "      <td>3</td>\n",
              "      <td>male</td>\n",
              "      <td>35.0</td>\n",
              "      <td>0</td>\n",
              "      <td>0</td>\n",
              "      <td>8.0500</td>\n",
              "      <td>S</td>\n",
              "      <td>Third</td>\n",
              "      <td>man</td>\n",
              "      <td>True</td>\n",
              "      <td>NaN</td>\n",
              "      <td>Southampton</td>\n",
              "      <td>no</td>\n",
              "      <td>True</td>\n",
              "    </tr>\n",
              "    <tr>\n",
              "      <th>5</th>\n",
              "      <td>0</td>\n",
              "      <td>3</td>\n",
              "      <td>male</td>\n",
              "      <td>NaN</td>\n",
              "      <td>0</td>\n",
              "      <td>0</td>\n",
              "      <td>8.4583</td>\n",
              "      <td>Q</td>\n",
              "      <td>Third</td>\n",
              "      <td>man</td>\n",
              "      <td>True</td>\n",
              "      <td>NaN</td>\n",
              "      <td>Queenstown</td>\n",
              "      <td>no</td>\n",
              "      <td>True</td>\n",
              "    </tr>\n",
              "    <tr>\n",
              "      <th>6</th>\n",
              "      <td>0</td>\n",
              "      <td>1</td>\n",
              "      <td>male</td>\n",
              "      <td>54.0</td>\n",
              "      <td>0</td>\n",
              "      <td>0</td>\n",
              "      <td>51.8625</td>\n",
              "      <td>S</td>\n",
              "      <td>First</td>\n",
              "      <td>man</td>\n",
              "      <td>True</td>\n",
              "      <td>E</td>\n",
              "      <td>Southampton</td>\n",
              "      <td>no</td>\n",
              "      <td>True</td>\n",
              "    </tr>\n",
              "    <tr>\n",
              "      <th>12</th>\n",
              "      <td>0</td>\n",
              "      <td>3</td>\n",
              "      <td>male</td>\n",
              "      <td>20.0</td>\n",
              "      <td>0</td>\n",
              "      <td>0</td>\n",
              "      <td>8.0500</td>\n",
              "      <td>S</td>\n",
              "      <td>Third</td>\n",
              "      <td>man</td>\n",
              "      <td>True</td>\n",
              "      <td>NaN</td>\n",
              "      <td>Southampton</td>\n",
              "      <td>no</td>\n",
              "      <td>True</td>\n",
              "    </tr>\n",
              "    <tr>\n",
              "      <th>...</th>\n",
              "      <td>...</td>\n",
              "      <td>...</td>\n",
              "      <td>...</td>\n",
              "      <td>...</td>\n",
              "      <td>...</td>\n",
              "      <td>...</td>\n",
              "      <td>...</td>\n",
              "      <td>...</td>\n",
              "      <td>...</td>\n",
              "      <td>...</td>\n",
              "      <td>...</td>\n",
              "      <td>...</td>\n",
              "      <td>...</td>\n",
              "      <td>...</td>\n",
              "      <td>...</td>\n",
              "    </tr>\n",
              "    <tr>\n",
              "      <th>883</th>\n",
              "      <td>0</td>\n",
              "      <td>2</td>\n",
              "      <td>male</td>\n",
              "      <td>28.0</td>\n",
              "      <td>0</td>\n",
              "      <td>0</td>\n",
              "      <td>10.5000</td>\n",
              "      <td>S</td>\n",
              "      <td>Second</td>\n",
              "      <td>man</td>\n",
              "      <td>True</td>\n",
              "      <td>NaN</td>\n",
              "      <td>Southampton</td>\n",
              "      <td>no</td>\n",
              "      <td>True</td>\n",
              "    </tr>\n",
              "    <tr>\n",
              "      <th>884</th>\n",
              "      <td>0</td>\n",
              "      <td>3</td>\n",
              "      <td>male</td>\n",
              "      <td>25.0</td>\n",
              "      <td>0</td>\n",
              "      <td>0</td>\n",
              "      <td>7.0500</td>\n",
              "      <td>S</td>\n",
              "      <td>Third</td>\n",
              "      <td>man</td>\n",
              "      <td>True</td>\n",
              "      <td>NaN</td>\n",
              "      <td>Southampton</td>\n",
              "      <td>no</td>\n",
              "      <td>True</td>\n",
              "    </tr>\n",
              "    <tr>\n",
              "      <th>886</th>\n",
              "      <td>0</td>\n",
              "      <td>2</td>\n",
              "      <td>male</td>\n",
              "      <td>27.0</td>\n",
              "      <td>0</td>\n",
              "      <td>0</td>\n",
              "      <td>13.0000</td>\n",
              "      <td>S</td>\n",
              "      <td>Second</td>\n",
              "      <td>man</td>\n",
              "      <td>True</td>\n",
              "      <td>NaN</td>\n",
              "      <td>Southampton</td>\n",
              "      <td>no</td>\n",
              "      <td>True</td>\n",
              "    </tr>\n",
              "    <tr>\n",
              "      <th>889</th>\n",
              "      <td>1</td>\n",
              "      <td>1</td>\n",
              "      <td>male</td>\n",
              "      <td>26.0</td>\n",
              "      <td>0</td>\n",
              "      <td>0</td>\n",
              "      <td>30.0000</td>\n",
              "      <td>C</td>\n",
              "      <td>First</td>\n",
              "      <td>man</td>\n",
              "      <td>True</td>\n",
              "      <td>C</td>\n",
              "      <td>Cherbourg</td>\n",
              "      <td>yes</td>\n",
              "      <td>True</td>\n",
              "    </tr>\n",
              "    <tr>\n",
              "      <th>890</th>\n",
              "      <td>0</td>\n",
              "      <td>3</td>\n",
              "      <td>male</td>\n",
              "      <td>32.0</td>\n",
              "      <td>0</td>\n",
              "      <td>0</td>\n",
              "      <td>7.7500</td>\n",
              "      <td>Q</td>\n",
              "      <td>Third</td>\n",
              "      <td>man</td>\n",
              "      <td>True</td>\n",
              "      <td>NaN</td>\n",
              "      <td>Queenstown</td>\n",
              "      <td>no</td>\n",
              "      <td>True</td>\n",
              "    </tr>\n",
              "  </tbody>\n",
              "</table>\n",
              "<p>537 rows × 15 columns</p>\n",
              "</div>"
            ],
            "text/plain": [
              "     survived  pclass   sex   age  ...  deck  embark_town  alive  alone\n",
              "0           0       3  male  22.0  ...   NaN  Southampton     no  False\n",
              "4           0       3  male  35.0  ...   NaN  Southampton     no   True\n",
              "5           0       3  male   NaN  ...   NaN   Queenstown     no   True\n",
              "6           0       1  male  54.0  ...     E  Southampton     no   True\n",
              "12          0       3  male  20.0  ...   NaN  Southampton     no   True\n",
              "..        ...     ...   ...   ...  ...   ...          ...    ...    ...\n",
              "883         0       2  male  28.0  ...   NaN  Southampton     no   True\n",
              "884         0       3  male  25.0  ...   NaN  Southampton     no   True\n",
              "886         0       2  male  27.0  ...   NaN  Southampton     no   True\n",
              "889         1       1  male  26.0  ...     C    Cherbourg    yes   True\n",
              "890         0       3  male  32.0  ...   NaN   Queenstown     no   True\n",
              "\n",
              "[537 rows x 15 columns]"
            ]
          },
          "execution_count": 12,
          "metadata": {},
          "output_type": "execute_result"
        }
      ],
      "source": []
    },
    {
      "cell_type": "markdown",
      "metadata": {
        "id": "oXGs5DrOgWyy"
      },
      "source": [
        " "
      ]
    },
    {
      "cell_type": "code",
      "execution_count": null,
      "metadata": {
        "id": "pQ2CmrD-gcHr"
      },
      "outputs": [],
      "source": []
    },
    {
      "cell_type": "markdown",
      "metadata": {
        "id": "LGVBxC-ugecu"
      },
      "source": [
        ". "
      ]
    },
    {
      "cell_type": "code",
      "execution_count": null,
      "metadata": {
        "id": "AYOirmImgiMQ"
      },
      "outputs": [],
      "source": []
    }
  ],
  "metadata": {
    "colab": {
      "collapsed_sections": [
        "9rp_wd0-HnY-",
        "3yw0KuZUHnY_",
        "hbN5I-YZHnZA",
        "7hZ5hlVJHnZB",
        "Kmk6cDC8HnZC",
        "-OSWUwp6HnZD",
        "WABw14rNHnZD",
        "eTKj2YuiHnZE",
        "hxZLhv5QHnZE",
        "RvGHRuQIHnZF",
        "58YyO3SkHnZG",
        "H8a-Du6dHnZH",
        "6gndtKOdHnZH",
        "YIkveqx4HnZI",
        "E9cJQGSZHnZI",
        "AWtUF9yVHnZJ",
        "dbdvRa5SHnZK",
        "WihbQTLoHnZL",
        "A5o9a7fCHnZM",
        "Q2T66RgSHnZN",
        "OIywmCbFHnZN",
        "cjQvWWfmHnZO",
        "SiYapLUfHnZP",
        "_WTALQ7DHnZR",
        "Z6bMxHKaHnZS",
        "5JUiEl2NHnZS",
        "ZRKfXIBuHnZT",
        "uwZU_3N-HnZU",
        "An13osDlHnZV",
        "pX5feCZmHnZV",
        "pJ_Xo2iUHnZW",
        "_xr7PyITHnZW",
        "o8i61n03HnZX",
        "6yK7EuRWHnZY",
        "fZt60Wp_HnZZ",
        "pKHcDK8RHnZZ",
        "sIMD7lIfHnZc",
        "JpXwIX3THnZc"
      ],
      "provenance": []
    },
    "kernelspec": {
      "display_name": "Python 3",
      "language": "python",
      "name": "python3"
    },
    "language_info": {
      "codemirror_mode": {
        "name": "ipython",
        "version": 3
      },
      "file_extension": ".py",
      "mimetype": "text/x-python",
      "name": "python",
      "nbconvert_exporter": "python",
      "pygments_lexer": "ipython3",
      "version": "3.7.0"
    },
    "toc": {
      "base_numbering": 1,
      "nav_menu": {},
      "number_sections": true,
      "sideBar": true,
      "skip_h1_title": false,
      "title_cell": "Table of Contents",
      "title_sidebar": "Contents",
      "toc_cell": false,
      "toc_position": {},
      "toc_section_display": true,
      "toc_window_display": false
    },
    "varInspector": {
      "cols": {
        "lenName": 16,
        "lenType": 16,
        "lenVar": 40
      },
      "kernels_config": {
        "python": {
          "delete_cmd_postfix": "",
          "delete_cmd_prefix": "del ",
          "library": "var_list.py",
          "varRefreshCmd": "print(var_dic_list())"
        },
        "r": {
          "delete_cmd_postfix": ") ",
          "delete_cmd_prefix": "rm(",
          "library": "var_list.r",
          "varRefreshCmd": "cat(var_dic_list()) "
        }
      },
      "types_to_exclude": [
        "module",
        "function",
        "builtin_function_or_method",
        "instance",
        "_Feature"
      ],
      "window_display": false
    }
  },
  "nbformat": 4,
  "nbformat_minor": 0
}