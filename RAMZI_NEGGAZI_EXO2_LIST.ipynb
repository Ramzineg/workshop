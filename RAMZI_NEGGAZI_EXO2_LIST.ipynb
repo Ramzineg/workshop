{
  "nbformat": 4,
  "nbformat_minor": 0,
  "metadata": {
    "kernelspec": {
      "display_name": "Python 3",
      "language": "python",
      "name": "python3"
    },
    "language_info": {
      "codemirror_mode": {
        "name": "ipython",
        "version": 3
      },
      "file_extension": ".py",
      "mimetype": "text/x-python",
      "name": "python",
      "nbconvert_exporter": "python",
      "pygments_lexer": "ipython3",
      "version": "3.7.3"
    },
    "colab": {
      "provenance": []
    }
  },
  "cells": [
    {
      "cell_type": "markdown",
      "metadata": {
        "id": "nP3frZA5FKuB"
      },
      "source": [
        "#### Answer the following questions by providing Python code:"
      ]
    },
    {
      "cell_type": "markdown",
      "metadata": {
        "id": "6tM_QHLaFKuC"
      },
      "source": [
        "# 1).  In the group A, students' heights are:\n",
        "\n",
        "182.5 <br>\n",
        "187.9 <br>\n",
        "196 <br>\n",
        "170.8 <br>\n",
        "157.2 <br>\n",
        "\n",
        "Calculate the mean height by using a for loop."
      ]
    },
    {
      "cell_type": "code",
      "metadata": {
        "id": "jLi861MQFKuD",
        "outputId": "c0c72efc-5769-4fe9-82dc-fb988bf167af",
        "colab": {
          "base_uri": "https://localhost:8080/"
        }
      },
      "source": [
        "#calcule du mean d'une liste :\n",
        "A = [182.5,187.9,196,170.8,157.2]\n",
        "b = 0\n",
        "mean1 =0\n",
        "for i in range(len(A)):\n",
        "  b=b+A[i]\n",
        "mean1=b/len(A)\n",
        "print('mean=',mean1)\n",
        "\n"
      ],
      "execution_count": null,
      "outputs": [
        {
          "output_type": "stream",
          "name": "stdout",
          "text": [
            "mean= 178.88000000000002\n"
          ]
        }
      ]
    },
    {
      "cell_type": "markdown",
      "metadata": {
        "id": "09LLzS_UFKuE"
      },
      "source": [
        "#2).  In the group B, students' heights are:\n",
        "\n",
        "182.5 <br>\n",
        "187.9 <br>\n",
        "161.7 <br>\n",
        "160.1 <br>\n",
        "161.8 <br>\n",
        "169.2 <br>\n",
        "\n",
        "Calculate the mean height by using Python 'list' and 'for' loop:"
      ]
    },
    {
      "cell_type": "code",
      "metadata": {
        "id": "q_BBkhYSFKuF",
        "outputId": "d72f53da-e037-4b19-bbcb-6e7833cb2b31",
        "colab": {
          "base_uri": "https://localhost:8080/"
        }
      },
      "source": [
        "B = [182.5,187.9,161.7,160.1,161.8,169.2]\n",
        "x = 0\n",
        "mean = 0\n",
        "for i in range(len(B)):\n",
        "  x=x+B[i]\n",
        "mean=x/len(B)\n",
        "print('mean=',mean)\n"
      ],
      "execution_count": null,
      "outputs": [
        {
          "output_type": "stream",
          "name": "stdout",
          "text": [
            "mean= 170.53333333333333\n"
          ]
        }
      ]
    },
    {
      "cell_type": "markdown",
      "metadata": {
        "id": "HXLQ6olnFKuF"
      },
      "source": [
        "# 3). The class A and the class B are joined together to form the class AB. Calculate the mean height by using Python 'list' and 'for' loop:"
      ]
    },
    {
      "cell_type": "code",
      "metadata": {
        "id": "jIJeYhkPFKuG",
        "outputId": "ba455ca1-a76a-4e06-9e63-45910dac4749",
        "colab": {
          "base_uri": "https://localhost:8080/"
        }
      },
      "source": [
        "c=A+B\n",
        "sum=0\n",
        "mean2=0\n",
        "for i in range (len(c)):\n",
        "  sum=sum+c[i]\n",
        "mean2=sum/len(c)\n",
        "mean2"
      ],
      "execution_count": null,
      "outputs": [
        {
          "output_type": "execute_result",
          "data": {
            "text/plain": [
              "174.32727272727274"
            ]
          },
          "metadata": {},
          "execution_count": 14
        }
      ]
    },
    {
      "cell_type": "markdown",
      "metadata": {
        "id": "MVAVekjXFKuH"
      },
      "source": [
        "#4). Sort the heights of the group AB."
      ]
    },
    {
      "cell_type": "code",
      "metadata": {
        "id": "fhVJRgi6FKuH",
        "outputId": "4297e145-fd37-4303-c943-877cdb7009bd",
        "colab": {
          "base_uri": "https://localhost:8080/"
        }
      },
      "source": [
        "\n",
        "d=max(c)\n",
        "d\n",
        "\n"
      ],
      "execution_count": null,
      "outputs": [
        {
          "output_type": "execute_result",
          "data": {
            "text/plain": [
              "196"
            ]
          },
          "metadata": {},
          "execution_count": 31
        }
      ]
    },
    {
      "cell_type": "code",
      "source": [
        "type([c[1]])"
      ],
      "metadata": {
        "id": "juoK_hFH_0F_",
        "outputId": "32938593-4b4c-4bac-f46d-bdc79116137f",
        "colab": {
          "base_uri": "https://localhost:8080/"
        }
      },
      "execution_count": null,
      "outputs": [
        {
          "output_type": "execute_result",
          "data": {
            "text/plain": [
              "list"
            ]
          },
          "metadata": {},
          "execution_count": 21
        }
      ]
    },
    {
      "cell_type": "markdown",
      "metadata": {
        "id": "W8KYBXt8FKuI"
      },
      "source": [
        "#5). The class D is formed with students with the height less than 165. "
      ]
    },
    {
      "cell_type": "code",
      "metadata": {
        "id": "92ryCfPHFKuI",
        "outputId": "339c09cc-a9a1-48c4-b840-fd73bb460b77",
        "colab": {
          "base_uri": "https://localhost:8080/"
        }
      },
      "source": [
        "d =[]\n",
        "for i in range (len(c)):\n",
        "  if c[i]<165:\n",
        "    d=d+[c[i]]\n",
        "d    \n"
      ],
      "execution_count": null,
      "outputs": [
        {
          "output_type": "execute_result",
          "data": {
            "text/plain": [
              "[157.2, 161.7, 160.1, 161.8]"
            ]
          },
          "metadata": {},
          "execution_count": 32
        }
      ]
    },
    {
      "cell_type": "markdown",
      "source": [
        "#6). Make a list of unique elements of A+B."
      ],
      "metadata": {
        "id": "npyT8dpgJ5Xz"
      }
    },
    {
      "cell_type": "code",
      "source": [
        "E = list(set(c))\n",
        "E\n"
      ],
      "metadata": {
        "id": "EsVSkbk6J4mU",
        "outputId": "b036f5e3-7ba0-40c6-d634-152058f53008",
        "colab": {
          "base_uri": "https://localhost:8080/"
        }
      },
      "execution_count": null,
      "outputs": [
        {
          "output_type": "execute_result",
          "data": {
            "text/plain": [
              "[160.1, 161.7, 161.8, 196, 169.2, 170.8, 182.5, 187.9, 157.2]"
            ]
          },
          "metadata": {},
          "execution_count": 52
        }
      ]
    },
    {
      "cell_type": "markdown",
      "source": [
        "# 7). Create a dictionary 'dict', the keys are integers and values belongs to the list A.\n",
        "\n",
        "dictA = [ 0 :182.5, 1:187.9, 2:196, 3: 170.8,4 :157.2]"
      ],
      "metadata": {
        "id": "5tMk3GbNKc5Z"
      }
    },
    {
      "cell_type": "code",
      "metadata": {
        "id": "6aGVc3qGFKuJ"
      },
      "source": [
        "dictA={ '0' :182.5, '1':187.9, '2':196, '3': 170.8,'4' :157.2}"
      ],
      "execution_count": null,
      "outputs": []
    },
    {
      "cell_type": "code",
      "source": [
        "dictA['0']"
      ],
      "metadata": {
        "id": "WXuXzdtTO4CO",
        "outputId": "323ca974-e88c-4f75-ed10-f821ceb82e3f",
        "colab": {
          "base_uri": "https://localhost:8080/"
        }
      },
      "execution_count": null,
      "outputs": [
        {
          "output_type": "execute_result",
          "data": {
            "text/plain": [
              "182.5"
            ]
          },
          "metadata": {},
          "execution_count": 48
        }
      ]
    },
    {
      "cell_type": "code",
      "source": [],
      "metadata": {
        "id": "j0yTo3qkO7Q_"
      },
      "execution_count": null,
      "outputs": []
    }
  ]
}